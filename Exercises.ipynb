{
 "cells": [
  {
   "cell_type": "markdown",
   "metadata": {},
   "source": [
    "# Ex2 - Getting and Knowing your Data"
   ]
  },
  {
   "cell_type": "markdown",
   "metadata": {},
   "source": [
    "This time we are going to pull data directly from the internet.\n",
    "Special thanks to: https://github.com/justmarkham for sharing the dataset and materials.\n",
    "\n",
    "### Step 1. Import the necessary libraries"
   ]
  },
  {
   "cell_type": "code",
   "execution_count": 1,
   "metadata": {
    "ExecuteTime": {
     "end_time": "2021-08-29T16:45:51.744999Z",
     "start_time": "2021-08-29T16:45:51.376319Z"
    }
   },
   "outputs": [],
   "source": [
    "import pandas as pd\n",
    "import numpy as np"
   ]
  },
  {
   "cell_type": "markdown",
   "metadata": {},
   "source": [
    "### Step 2. Import the dataset from this [address](https://raw.githubusercontent.com/justmarkham/DAT8/master/data/chipotle.tsv). "
   ]
  },
  {
   "cell_type": "markdown",
   "metadata": {},
   "source": [
    "### Step 3. Assign it to a variable called chipo."
   ]
  },
  {
   "cell_type": "code",
   "execution_count": 2,
   "metadata": {
    "ExecuteTime": {
     "end_time": "2021-08-29T16:45:52.368377Z",
     "start_time": "2021-08-29T16:45:51.748769Z"
    }
   },
   "outputs": [
    {
     "name": "stdout",
     "output_type": "stream",
     "text": [
      "      order_id  quantity                              item_name  \\\n",
      "0            1         1           Chips and Fresh Tomato Salsa   \n",
      "1            1         1                                   Izze   \n",
      "2            1         1                       Nantucket Nectar   \n",
      "3            1         1  Chips and Tomatillo-Green Chili Salsa   \n",
      "4            2         2                           Chicken Bowl   \n",
      "...        ...       ...                                    ...   \n",
      "4617      1833         1                          Steak Burrito   \n",
      "4618      1833         1                          Steak Burrito   \n",
      "4619      1834         1                     Chicken Salad Bowl   \n",
      "4620      1834         1                     Chicken Salad Bowl   \n",
      "4621      1834         1                     Chicken Salad Bowl   \n",
      "\n",
      "                                     choice_description item_price  \n",
      "0                                                   NaN     $2.39   \n",
      "1                                          [Clementine]     $3.39   \n",
      "2                                               [Apple]     $3.39   \n",
      "3                                                   NaN     $2.39   \n",
      "4     [Tomatillo-Red Chili Salsa (Hot), [Black Beans...    $16.98   \n",
      "...                                                 ...        ...  \n",
      "4617  [Fresh Tomato Salsa, [Rice, Black Beans, Sour ...    $11.75   \n",
      "4618  [Fresh Tomato Salsa, [Rice, Sour Cream, Cheese...    $11.75   \n",
      "4619  [Fresh Tomato Salsa, [Fajita Vegetables, Pinto...    $11.25   \n",
      "4620  [Fresh Tomato Salsa, [Fajita Vegetables, Lettu...     $8.75   \n",
      "4621  [Fresh Tomato Salsa, [Fajita Vegetables, Pinto...     $8.75   \n",
      "\n",
      "[4622 rows x 5 columns]\n"
     ]
    }
   ],
   "source": [
    "link = \"https://raw.githubusercontent.com/justmarkham/DAT8/master/data/chipotle.tsv\"\n",
    "df=pd.read_table(link,sep='\\t')\n",
    "print(df)\n"
   ]
  },
  {
   "cell_type": "code",
   "execution_count": 3,
   "metadata": {
    "ExecuteTime": {
     "end_time": "2021-08-29T16:45:52.398674Z",
     "start_time": "2021-08-29T16:45:52.369374Z"
    }
   },
   "outputs": [
    {
     "data": {
      "text/html": [
       "<div>\n",
       "<style scoped>\n",
       "    .dataframe tbody tr th:only-of-type {\n",
       "        vertical-align: middle;\n",
       "    }\n",
       "\n",
       "    .dataframe tbody tr th {\n",
       "        vertical-align: top;\n",
       "    }\n",
       "\n",
       "    .dataframe thead th {\n",
       "        text-align: right;\n",
       "    }\n",
       "</style>\n",
       "<table border=\"1\" class=\"dataframe\">\n",
       "  <thead>\n",
       "    <tr style=\"text-align: right;\">\n",
       "      <th></th>\n",
       "      <th>order_id</th>\n",
       "      <th>quantity</th>\n",
       "      <th>item_name</th>\n",
       "      <th>choice_description</th>\n",
       "      <th>item_price</th>\n",
       "    </tr>\n",
       "  </thead>\n",
       "  <tbody>\n",
       "    <tr>\n",
       "      <th>0</th>\n",
       "      <td>1</td>\n",
       "      <td>1</td>\n",
       "      <td>Chips and Fresh Tomato Salsa</td>\n",
       "      <td>NaN</td>\n",
       "      <td>$2.39</td>\n",
       "    </tr>\n",
       "    <tr>\n",
       "      <th>1</th>\n",
       "      <td>1</td>\n",
       "      <td>1</td>\n",
       "      <td>Izze</td>\n",
       "      <td>[Clementine]</td>\n",
       "      <td>$3.39</td>\n",
       "    </tr>\n",
       "    <tr>\n",
       "      <th>2</th>\n",
       "      <td>1</td>\n",
       "      <td>1</td>\n",
       "      <td>Nantucket Nectar</td>\n",
       "      <td>[Apple]</td>\n",
       "      <td>$3.39</td>\n",
       "    </tr>\n",
       "    <tr>\n",
       "      <th>3</th>\n",
       "      <td>1</td>\n",
       "      <td>1</td>\n",
       "      <td>Chips and Tomatillo-Green Chili Salsa</td>\n",
       "      <td>NaN</td>\n",
       "      <td>$2.39</td>\n",
       "    </tr>\n",
       "    <tr>\n",
       "      <th>4</th>\n",
       "      <td>2</td>\n",
       "      <td>2</td>\n",
       "      <td>Chicken Bowl</td>\n",
       "      <td>[Tomatillo-Red Chili Salsa (Hot), [Black Beans...</td>\n",
       "      <td>$16.98</td>\n",
       "    </tr>\n",
       "    <tr>\n",
       "      <th>...</th>\n",
       "      <td>...</td>\n",
       "      <td>...</td>\n",
       "      <td>...</td>\n",
       "      <td>...</td>\n",
       "      <td>...</td>\n",
       "    </tr>\n",
       "    <tr>\n",
       "      <th>4617</th>\n",
       "      <td>1833</td>\n",
       "      <td>1</td>\n",
       "      <td>Steak Burrito</td>\n",
       "      <td>[Fresh Tomato Salsa, [Rice, Black Beans, Sour ...</td>\n",
       "      <td>$11.75</td>\n",
       "    </tr>\n",
       "    <tr>\n",
       "      <th>4618</th>\n",
       "      <td>1833</td>\n",
       "      <td>1</td>\n",
       "      <td>Steak Burrito</td>\n",
       "      <td>[Fresh Tomato Salsa, [Rice, Sour Cream, Cheese...</td>\n",
       "      <td>$11.75</td>\n",
       "    </tr>\n",
       "    <tr>\n",
       "      <th>4619</th>\n",
       "      <td>1834</td>\n",
       "      <td>1</td>\n",
       "      <td>Chicken Salad Bowl</td>\n",
       "      <td>[Fresh Tomato Salsa, [Fajita Vegetables, Pinto...</td>\n",
       "      <td>$11.25</td>\n",
       "    </tr>\n",
       "    <tr>\n",
       "      <th>4620</th>\n",
       "      <td>1834</td>\n",
       "      <td>1</td>\n",
       "      <td>Chicken Salad Bowl</td>\n",
       "      <td>[Fresh Tomato Salsa, [Fajita Vegetables, Lettu...</td>\n",
       "      <td>$8.75</td>\n",
       "    </tr>\n",
       "    <tr>\n",
       "      <th>4621</th>\n",
       "      <td>1834</td>\n",
       "      <td>1</td>\n",
       "      <td>Chicken Salad Bowl</td>\n",
       "      <td>[Fresh Tomato Salsa, [Fajita Vegetables, Pinto...</td>\n",
       "      <td>$8.75</td>\n",
       "    </tr>\n",
       "  </tbody>\n",
       "</table>\n",
       "<p>4622 rows × 5 columns</p>\n",
       "</div>"
      ],
      "text/plain": [
       "      order_id  quantity                              item_name  \\\n",
       "0            1         1           Chips and Fresh Tomato Salsa   \n",
       "1            1         1                                   Izze   \n",
       "2            1         1                       Nantucket Nectar   \n",
       "3            1         1  Chips and Tomatillo-Green Chili Salsa   \n",
       "4            2         2                           Chicken Bowl   \n",
       "...        ...       ...                                    ...   \n",
       "4617      1833         1                          Steak Burrito   \n",
       "4618      1833         1                          Steak Burrito   \n",
       "4619      1834         1                     Chicken Salad Bowl   \n",
       "4620      1834         1                     Chicken Salad Bowl   \n",
       "4621      1834         1                     Chicken Salad Bowl   \n",
       "\n",
       "                                     choice_description item_price  \n",
       "0                                                   NaN     $2.39   \n",
       "1                                          [Clementine]     $3.39   \n",
       "2                                               [Apple]     $3.39   \n",
       "3                                                   NaN     $2.39   \n",
       "4     [Tomatillo-Red Chili Salsa (Hot), [Black Beans...    $16.98   \n",
       "...                                                 ...        ...  \n",
       "4617  [Fresh Tomato Salsa, [Rice, Black Beans, Sour ...    $11.75   \n",
       "4618  [Fresh Tomato Salsa, [Rice, Sour Cream, Cheese...    $11.75   \n",
       "4619  [Fresh Tomato Salsa, [Fajita Vegetables, Pinto...    $11.25   \n",
       "4620  [Fresh Tomato Salsa, [Fajita Vegetables, Lettu...     $8.75   \n",
       "4621  [Fresh Tomato Salsa, [Fajita Vegetables, Pinto...     $8.75   \n",
       "\n",
       "[4622 rows x 5 columns]"
      ]
     },
     "execution_count": 3,
     "metadata": {},
     "output_type": "execute_result"
    }
   ],
   "source": [
    "df"
   ]
  },
  {
   "cell_type": "markdown",
   "metadata": {},
   "source": [
    "### Step 4. See the first 10 entries"
   ]
  },
  {
   "cell_type": "code",
   "execution_count": 4,
   "metadata": {
    "ExecuteTime": {
     "end_time": "2021-08-29T16:45:52.413442Z",
     "start_time": "2021-08-29T16:45:52.399479Z"
    },
    "scrolled": false
   },
   "outputs": [
    {
     "name": "stdout",
     "output_type": "stream",
     "text": [
      "   order_id  quantity                              item_name  \\\n",
      "0         1         1           Chips and Fresh Tomato Salsa   \n",
      "1         1         1                                   Izze   \n",
      "2         1         1                       Nantucket Nectar   \n",
      "3         1         1  Chips and Tomatillo-Green Chili Salsa   \n",
      "4         2         2                           Chicken Bowl   \n",
      "5         3         1                           Chicken Bowl   \n",
      "6         3         1                          Side of Chips   \n",
      "7         4         1                          Steak Burrito   \n",
      "8         4         1                       Steak Soft Tacos   \n",
      "9         5         1                          Steak Burrito   \n",
      "\n",
      "                                  choice_description item_price  \n",
      "0                                                NaN     $2.39   \n",
      "1                                       [Clementine]     $3.39   \n",
      "2                                            [Apple]     $3.39   \n",
      "3                                                NaN     $2.39   \n",
      "4  [Tomatillo-Red Chili Salsa (Hot), [Black Beans...    $16.98   \n",
      "5  [Fresh Tomato Salsa (Mild), [Rice, Cheese, Sou...    $10.98   \n",
      "6                                                NaN     $1.69   \n",
      "7  [Tomatillo Red Chili Salsa, [Fajita Vegetables...    $11.75   \n",
      "8  [Tomatillo Green Chili Salsa, [Pinto Beans, Ch...     $9.25   \n",
      "9  [Fresh Tomato Salsa, [Rice, Black Beans, Pinto...     $9.25   \n"
     ]
    }
   ],
   "source": [
    "\n",
    "print(df.head(10))"
   ]
  },
  {
   "cell_type": "markdown",
   "metadata": {},
   "source": [
    "### Step 5. What is the number of observations in the dataset?"
   ]
  },
  {
   "cell_type": "code",
   "execution_count": 5,
   "metadata": {
    "ExecuteTime": {
     "end_time": "2021-08-29T16:45:52.428400Z",
     "start_time": "2021-08-29T16:45:52.414437Z"
    }
   },
   "outputs": [
    {
     "name": "stdout",
     "output_type": "stream",
     "text": [
      "4622\n"
     ]
    }
   ],
   "source": [
    "# Solution 1\n",
    "print(len(df))\n",
    "\n"
   ]
  },
  {
   "cell_type": "markdown",
   "metadata": {},
   "source": [
    "### Step 6. What is the number of columns in the dataset?"
   ]
  },
  {
   "cell_type": "code",
   "execution_count": 6,
   "metadata": {
    "ExecuteTime": {
     "end_time": "2021-08-29T16:45:52.444478Z",
     "start_time": "2021-08-29T16:45:52.430395Z"
    }
   },
   "outputs": [
    {
     "name": "stdout",
     "output_type": "stream",
     "text": [
      "5\n"
     ]
    }
   ],
   "source": [
    "print(len(df.columns))"
   ]
  },
  {
   "cell_type": "markdown",
   "metadata": {},
   "source": [
    "### Step 7. Print the name of all the columns."
   ]
  },
  {
   "cell_type": "code",
   "execution_count": 7,
   "metadata": {
    "ExecuteTime": {
     "end_time": "2021-08-29T16:45:52.459323Z",
     "start_time": "2021-08-29T16:45:52.446352Z"
    }
   },
   "outputs": [
    {
     "name": "stdout",
     "output_type": "stream",
     "text": [
      "Index(['order_id', 'quantity', 'item_name', 'choice_description',\n",
      "       'item_price'],\n",
      "      dtype='object')\n"
     ]
    }
   ],
   "source": [
    "print(df.columns)"
   ]
  },
  {
   "cell_type": "markdown",
   "metadata": {},
   "source": [
    "### Step 8. How is the dataset indexed?"
   ]
  },
  {
   "cell_type": "code",
   "execution_count": 8,
   "metadata": {
    "ExecuteTime": {
     "end_time": "2021-08-29T16:45:52.475285Z",
     "start_time": "2021-08-29T16:45:52.461313Z"
    }
   },
   "outputs": [
    {
     "data": {
      "text/plain": [
       "RangeIndex(start=0, stop=4622, step=1)"
      ]
     },
     "execution_count": 8,
     "metadata": {},
     "output_type": "execute_result"
    }
   ],
   "source": [
    "df.index"
   ]
  },
  {
   "cell_type": "markdown",
   "metadata": {},
   "source": [
    "### Step 9. Which was the most-ordered item? "
   ]
  },
  {
   "cell_type": "code",
   "execution_count": 9,
   "metadata": {
    "ExecuteTime": {
     "end_time": "2021-08-29T16:45:52.491237Z",
     "start_time": "2021-08-29T16:45:52.476272Z"
    }
   },
   "outputs": [
    {
     "data": {
      "text/plain": [
       "'Chicken Bowl'"
      ]
     },
     "execution_count": 9,
     "metadata": {},
     "output_type": "execute_result"
    }
   ],
   "source": [
    "df['item_name'].value_counts().index[0]"
   ]
  },
  {
   "cell_type": "code",
   "execution_count": 10,
   "metadata": {
    "ExecuteTime": {
     "end_time": "2021-08-29T16:45:52.506192Z",
     "start_time": "2021-08-29T16:45:52.492229Z"
    }
   },
   "outputs": [
    {
     "name": "stdout",
     "output_type": "stream",
     "text": [
      "Chicken Bowl\n"
     ]
    }
   ],
   "source": [
    "d={}\n",
    "for i in df['item_name']:\n",
    "    d[i]=0\n",
    "for i in df['item_name']:\n",
    "    d[i]+=1\n",
    "\n",
    "max1=max(d.values())\n",
    "for i in d:\n",
    "    if d[i]==max1:\n",
    "        \n",
    "        print(i)\n",
    "    "
   ]
  },
  {
   "cell_type": "code",
   "execution_count": 11,
   "metadata": {
    "ExecuteTime": {
     "end_time": "2021-08-29T16:45:52.521152Z",
     "start_time": "2021-08-29T16:45:52.507189Z"
    }
   },
   "outputs": [
    {
     "data": {
      "text/html": [
       "<div>\n",
       "<style scoped>\n",
       "    .dataframe tbody tr th:only-of-type {\n",
       "        vertical-align: middle;\n",
       "    }\n",
       "\n",
       "    .dataframe tbody tr th {\n",
       "        vertical-align: top;\n",
       "    }\n",
       "\n",
       "    .dataframe thead th {\n",
       "        text-align: right;\n",
       "    }\n",
       "</style>\n",
       "<table border=\"1\" class=\"dataframe\">\n",
       "  <thead>\n",
       "    <tr style=\"text-align: right;\">\n",
       "      <th></th>\n",
       "      <th>order_id</th>\n",
       "      <th>quantity</th>\n",
       "      <th>item_name</th>\n",
       "      <th>choice_description</th>\n",
       "      <th>item_price</th>\n",
       "    </tr>\n",
       "  </thead>\n",
       "  <tbody>\n",
       "    <tr>\n",
       "      <th>0</th>\n",
       "      <td>1</td>\n",
       "      <td>1</td>\n",
       "      <td>Chips and Fresh Tomato Salsa</td>\n",
       "      <td>NaN</td>\n",
       "      <td>$2.39</td>\n",
       "    </tr>\n",
       "    <tr>\n",
       "      <th>1</th>\n",
       "      <td>1</td>\n",
       "      <td>1</td>\n",
       "      <td>Izze</td>\n",
       "      <td>[Clementine]</td>\n",
       "      <td>$3.39</td>\n",
       "    </tr>\n",
       "    <tr>\n",
       "      <th>2</th>\n",
       "      <td>1</td>\n",
       "      <td>1</td>\n",
       "      <td>Nantucket Nectar</td>\n",
       "      <td>[Apple]</td>\n",
       "      <td>$3.39</td>\n",
       "    </tr>\n",
       "    <tr>\n",
       "      <th>3</th>\n",
       "      <td>1</td>\n",
       "      <td>1</td>\n",
       "      <td>Chips and Tomatillo-Green Chili Salsa</td>\n",
       "      <td>NaN</td>\n",
       "      <td>$2.39</td>\n",
       "    </tr>\n",
       "    <tr>\n",
       "      <th>4</th>\n",
       "      <td>2</td>\n",
       "      <td>2</td>\n",
       "      <td>Chicken Bowl</td>\n",
       "      <td>[Tomatillo-Red Chili Salsa (Hot), [Black Beans...</td>\n",
       "      <td>$16.98</td>\n",
       "    </tr>\n",
       "    <tr>\n",
       "      <th>...</th>\n",
       "      <td>...</td>\n",
       "      <td>...</td>\n",
       "      <td>...</td>\n",
       "      <td>...</td>\n",
       "      <td>...</td>\n",
       "    </tr>\n",
       "    <tr>\n",
       "      <th>4617</th>\n",
       "      <td>1833</td>\n",
       "      <td>1</td>\n",
       "      <td>Steak Burrito</td>\n",
       "      <td>[Fresh Tomato Salsa, [Rice, Black Beans, Sour ...</td>\n",
       "      <td>$11.75</td>\n",
       "    </tr>\n",
       "    <tr>\n",
       "      <th>4618</th>\n",
       "      <td>1833</td>\n",
       "      <td>1</td>\n",
       "      <td>Steak Burrito</td>\n",
       "      <td>[Fresh Tomato Salsa, [Rice, Sour Cream, Cheese...</td>\n",
       "      <td>$11.75</td>\n",
       "    </tr>\n",
       "    <tr>\n",
       "      <th>4619</th>\n",
       "      <td>1834</td>\n",
       "      <td>1</td>\n",
       "      <td>Chicken Salad Bowl</td>\n",
       "      <td>[Fresh Tomato Salsa, [Fajita Vegetables, Pinto...</td>\n",
       "      <td>$11.25</td>\n",
       "    </tr>\n",
       "    <tr>\n",
       "      <th>4620</th>\n",
       "      <td>1834</td>\n",
       "      <td>1</td>\n",
       "      <td>Chicken Salad Bowl</td>\n",
       "      <td>[Fresh Tomato Salsa, [Fajita Vegetables, Lettu...</td>\n",
       "      <td>$8.75</td>\n",
       "    </tr>\n",
       "    <tr>\n",
       "      <th>4621</th>\n",
       "      <td>1834</td>\n",
       "      <td>1</td>\n",
       "      <td>Chicken Salad Bowl</td>\n",
       "      <td>[Fresh Tomato Salsa, [Fajita Vegetables, Pinto...</td>\n",
       "      <td>$8.75</td>\n",
       "    </tr>\n",
       "  </tbody>\n",
       "</table>\n",
       "<p>4622 rows × 5 columns</p>\n",
       "</div>"
      ],
      "text/plain": [
       "      order_id  quantity                              item_name  \\\n",
       "0            1         1           Chips and Fresh Tomato Salsa   \n",
       "1            1         1                                   Izze   \n",
       "2            1         1                       Nantucket Nectar   \n",
       "3            1         1  Chips and Tomatillo-Green Chili Salsa   \n",
       "4            2         2                           Chicken Bowl   \n",
       "...        ...       ...                                    ...   \n",
       "4617      1833         1                          Steak Burrito   \n",
       "4618      1833         1                          Steak Burrito   \n",
       "4619      1834         1                     Chicken Salad Bowl   \n",
       "4620      1834         1                     Chicken Salad Bowl   \n",
       "4621      1834         1                     Chicken Salad Bowl   \n",
       "\n",
       "                                     choice_description item_price  \n",
       "0                                                   NaN     $2.39   \n",
       "1                                          [Clementine]     $3.39   \n",
       "2                                               [Apple]     $3.39   \n",
       "3                                                   NaN     $2.39   \n",
       "4     [Tomatillo-Red Chili Salsa (Hot), [Black Beans...    $16.98   \n",
       "...                                                 ...        ...  \n",
       "4617  [Fresh Tomato Salsa, [Rice, Black Beans, Sour ...    $11.75   \n",
       "4618  [Fresh Tomato Salsa, [Rice, Sour Cream, Cheese...    $11.75   \n",
       "4619  [Fresh Tomato Salsa, [Fajita Vegetables, Pinto...    $11.25   \n",
       "4620  [Fresh Tomato Salsa, [Fajita Vegetables, Lettu...     $8.75   \n",
       "4621  [Fresh Tomato Salsa, [Fajita Vegetables, Pinto...     $8.75   \n",
       "\n",
       "[4622 rows x 5 columns]"
      ]
     },
     "execution_count": 11,
     "metadata": {},
     "output_type": "execute_result"
    }
   ],
   "source": [
    "df"
   ]
  },
  {
   "cell_type": "code",
   "execution_count": 12,
   "metadata": {
    "ExecuteTime": {
     "end_time": "2021-08-29T16:45:52.536131Z",
     "start_time": "2021-08-29T16:45:52.522150Z"
    }
   },
   "outputs": [
    {
     "name": "stdout",
     "output_type": "stream",
     "text": [
      "Chicken Bowl\n"
     ]
    }
   ],
   "source": [
    "x=list(set(df['item_name']))\n",
    "di={}\n",
    "for i in x:\n",
    "    di[i]=0\n",
    "for i in df['item_name']:\n",
    "    di[i]+=1\n",
    "max1=max(di.values())\n",
    "for i in di:\n",
    "    if di[i]==max1:\n",
    "        \n",
    "        print(i)"
   ]
  },
  {
   "cell_type": "markdown",
   "metadata": {},
   "source": [
    "### Step 10. For the most-ordered item, how many items were ordered?"
   ]
  },
  {
   "cell_type": "code",
   "execution_count": 13,
   "metadata": {
    "ExecuteTime": {
     "end_time": "2021-08-29T16:45:52.552069Z",
     "start_time": "2021-08-29T16:45:52.537111Z"
    }
   },
   "outputs": [
    {
     "data": {
      "text/plain": [
       "726"
      ]
     },
     "execution_count": 13,
     "metadata": {},
     "output_type": "execute_result"
    }
   ],
   "source": [
    "d['Chicken Bowl']"
   ]
  },
  {
   "cell_type": "code",
   "execution_count": 14,
   "metadata": {
    "ExecuteTime": {
     "end_time": "2021-08-29T16:45:52.568026Z",
     "start_time": "2021-08-29T16:45:52.553066Z"
    }
   },
   "outputs": [
    {
     "data": {
      "text/plain": [
       "726"
      ]
     },
     "execution_count": 14,
     "metadata": {},
     "output_type": "execute_result"
    }
   ],
   "source": [
    "di['Chicken Bowl']"
   ]
  },
  {
   "cell_type": "markdown",
   "metadata": {},
   "source": [
    "### Step 11. What was the most ordered item in the choice_description column?"
   ]
  },
  {
   "cell_type": "code",
   "execution_count": 15,
   "metadata": {
    "ExecuteTime": {
     "end_time": "2021-08-29T16:45:52.615957Z",
     "start_time": "2021-08-29T16:45:52.569024Z"
    }
   },
   "outputs": [
    {
     "name": "stdout",
     "output_type": "stream",
     "text": [
      "nan\n"
     ]
    },
    {
     "data": {
      "text/plain": [
       "{nan: 1246,\n",
       " '[Fresh Tomato Salsa, Guacamole]': 5,\n",
       " '[Tomatillo Green Chili Salsa, [Sour Cream, Cheese, Lettuce]]': 1,\n",
       " '[Roasted Chili Corn Salsa, [Fajita Vegetables, Rice, Black Beans, Pinto Beans, Cheese, Sour Cream, Guacamole, Lettuce]]': 2,\n",
       " '[Tomatillo Red Chili Salsa, [Rice, Black Beans]]': 2,\n",
       " '[Tomatillo Red Chili Salsa, [Fajita Vegetables, Rice, Black Beans, Cheese, Sour Cream]]': 3,\n",
       " '[Tomatillo Red Chili Salsa, [Cheese, Black Beans, Rice, Lettuce, Sour Cream]]': 1,\n",
       " '[Tomatillo-Red Chili Salsa (Hot), [Guacamole, Lettuce, Sour Cream, Rice, Cheese, Black Beans]]': 1,\n",
       " '[Fresh Tomato Salsa (Mild), [Cheese, Rice, Pinto Beans, Sour Cream]]': 4,\n",
       " '[Roasted Chili Corn Salsa (Medium), [Rice, Black Beans, Sour Cream, Lettuce]]': 1,\n",
       " '[Fresh Tomato Salsa, [Black Beans, Guacamole]]': 1,\n",
       " '[Fresh Tomato Salsa, [Cheese, Sour Cream, Guacamole, Lettuce]]': 3,\n",
       " '[Fresh Tomato Salsa, [Rice, Black Beans, Fajita Vegetables, Lettuce, Cheese, Sour Cream]]': 1,\n",
       " '[Roasted Chili Corn Salsa, [Rice, Pinto Beans, Sour Cream, Cheese, Guacamole]]': 10,\n",
       " '[[Fresh Tomato Salsa (Mild), Tomatillo-Green Chili Salsa (Medium)], [Rice, Fajita Veggies, Lettuce]]': 1,\n",
       " '[Fresh Tomato Salsa (Mild), [Rice, Fajita Veggies, Cheese, Sour Cream, Lettuce]]': 5,\n",
       " '[Lemonade]': 33,\n",
       " '[Tomatillo Green Chili Salsa, [Fajita Vegetables, Pinto Beans, Sour Cream, Cheese, Lettuce]]': 2,\n",
       " '[Tomatillo Red Chili Salsa, [Fajita Vegetables, Rice, Pinto Beans, Cheese, Sour Cream, Lettuce]]': 1,\n",
       " '[[Fresh Tomato Salsa (Mild), Tomatillo-Green Chili Salsa (Medium)], [Black Beans, Rice, Fajita Veggies, Cheese, Sour Cream]]': 1,\n",
       " '[[Fresh Tomato Salsa (Mild), Tomatillo-Red Chili Salsa (Hot)], [Rice, Fajita Veggies, Cheese, Lettuce]]': 1,\n",
       " '[Roasted Chili Corn Salsa, [Lettuce, Sour Cream, Cheese, Rice]]': 1,\n",
       " '[Fresh Tomato Salsa (Mild), [Black Beans, Rice, Fajita Veggies, Cheese, Sour Cream]]': 2,\n",
       " '[Fresh Tomato Salsa, [Fajita Vegetables, Rice, Black Beans, Sour Cream]]': 2,\n",
       " '[Tomatillo-Green Chili Salsa (Medium), [Pinto Beans, Cheese, Sour Cream]]': 1,\n",
       " '[Fresh Tomato Salsa, [Fajita Vegetables, Rice, Pinto Beans, Cheese, Lettuce]]': 2,\n",
       " '[Fresh Tomato Salsa (Mild), [Rice, Fajita Veggies, Lettuce]]': 2,\n",
       " '[Tomatillo Red Chili Salsa, [Fajita Vegetables, Black Beans, Cheese, Guacamole, Lettuce]]': 7,\n",
       " '[Roasted Chili Corn Salsa (Medium), [Rice, Fajita Veggies, Cheese, Sour Cream]]': 2,\n",
       " '[Fresh Tomato Salsa, [Sour Cream, Guacamole]]': 1,\n",
       " '[Roasted Chili Corn Salsa, [Fajita Vegetables, Black Beans, Sour Cream, Guacamole, Lettuce]]': 1,\n",
       " '[Roasted Chili Corn Salsa (Medium), [Pinto Beans, Rice, Cheese, Guacamole, Lettuce]]': 1,\n",
       " '[Fresh Tomato Salsa, [Rice, Black Beans, Pinto Beans, Cheese, Lettuce]]': 2,\n",
       " '[Tomatillo-Green Chili Salsa (Medium), [Rice, Fajita Veggies, Lettuce]]': 1,\n",
       " '[Roasted Chili Corn Salsa, [Cheese, Sour Cream, Lettuce]]': 2,\n",
       " '[Fresh Tomato Salsa, [Guacamole, Cheese, Rice, Sour Cream, Fajita Vegetables, Lettuce]]': 1,\n",
       " '[Tomatillo Green Chili Salsa, [Fajita Vegetables, Rice, Black Beans, Cheese, Guacamole]]': 1,\n",
       " '[Fresh Tomato Salsa, Fajita Vegetables]': 4,\n",
       " '[Tomatillo Red Chili Salsa, [Cheese, Sour Cream, Lettuce]]': 2,\n",
       " '[[Tomatillo-Red Chili Salsa (Hot), Fresh Tomato Salsa (Mild)], [Rice, Black Beans, Cheese, Lettuce]]': 1,\n",
       " '[Tomatillo Green Chili Salsa, [Fajita Vegetables, Cheese, Sour Cream, Guacamole, Lettuce, Rice]]': 1,\n",
       " '[Fresh Tomato Salsa (Mild), [Rice, Cheese]]': 2,\n",
       " '[Fresh Tomato Salsa (Mild), [Sour Cream, Lettuce, Cheese, Black Beans, Rice]]': 1,\n",
       " '[Tomatillo-Green Chili Salsa (Medium), [Pinto Beans, Rice, Cheese, Sour Cream, Guacamole, Lettuce]]': 1,\n",
       " '[Roasted Chili Corn Salsa, [Rice, Pinto Beans, Cheese, Sour Cream, Guacamole]]': 10,\n",
       " '[Roasted Chili Corn Salsa, [Fajita Vegetables, Rice, Guacamole, Lettuce]]': 1,\n",
       " '[[Roasted Chili Corn Salsa (Medium), Tomatillo-Red Chili Salsa (Hot)], [Pinto Beans, Rice, Fajita Veggies]]': 2,\n",
       " '[Tomatillo-Red Chili Salsa (Hot), [Black Beans, Rice, Cheese]]': 5,\n",
       " '[[Tomatillo-Green Chili Salsa (Medium), Roasted Chili Corn Salsa (Medium)], [Black Beans, Rice, Fajita Veggies, Cheese, Sour Cream, Guacamole]]': 1,\n",
       " '[[Tomatillo-Green Chili Salsa (Medium), Roasted Chili Corn Salsa (Medium)], [Black Beans, Rice, Cheese, Guacamole]]': 1,\n",
       " '[Tomatillo Red Chili Salsa, Fajita Vegetables]': 1,\n",
       " '[Fresh Tomato Salsa, [Cheese, Guacamole, Sour Cream, Fajita Vegetables, Rice]]': 1,\n",
       " '[Fresh Tomato Salsa (Mild), [Black Beans, Cheese, Lettuce]]': 1,\n",
       " '[Fresh Tomato Salsa, [Sour Cream, Guacamole, Lettuce]]': 2,\n",
       " '[Tomatillo Red Chili Salsa, [Fajita Vegetables, Rice, Black Beans, Guacamole]]': 1,\n",
       " '[Tomatillo-Green Chili Salsa (Medium), [Black Beans, Rice, Cheese, Guacamole]]': 2,\n",
       " '[Tomatillo Green Chili Salsa, [Fajita Vegetables, Cheese, Lettuce]]': 1,\n",
       " '[Fresh Tomato Salsa, [Fajita Vegetables, Rice, Guacamole]]': 4,\n",
       " '[Fresh Tomato Salsa, [Rice, Sour Cream, Cheese, Lettuce, Guacamole]]': 6,\n",
       " '[Fresh Tomato Salsa (Mild), [Pinto Beans, Cheese, Sour Cream]]': 2,\n",
       " '[Fresh Tomato Salsa, [Rice, Black Beans, Cheese]]': 28,\n",
       " '[Fresh Tomato Salsa (Mild), Fajita Veggies]': 1,\n",
       " '[Fresh Tomato Salsa, [Cheese, Sour Cream, Guacamole]]': 2,\n",
       " '[Roasted Chili Corn Salsa, [Rice, Lettuce]]': 1,\n",
       " '[Tomatillo Red Chili Salsa, [Guacamole, Cheese]]': 2,\n",
       " '[Fresh Tomato Salsa (Mild), [Pinto Beans, Rice, Cheese, Sour Cream]]': 36,\n",
       " '[Fresh Tomato Salsa, [Rice, Cheese, Sour Cream, Guacamole, Fajita Vegetables]]': 1,\n",
       " '[Roasted Chili Corn Salsa, [Rice, Pinto Beans, Cheese, Lettuce, Guacamole]]': 1,\n",
       " '[Fresh Tomato Salsa (Mild), [Rice, Cheese, Sour Cream, Guacamole, Lettuce]]': 3,\n",
       " '[Roasted Chili Corn Salsa, [Fajita Vegetables, Rice, Black Beans, Cheese, Sour Cream, Guacamole, Lettuce]]': 16,\n",
       " '[Fresh Tomato Salsa (Mild), [Pinto Beans, Rice, Cheese, Lettuce]]': 1,\n",
       " '[Roasted Chili Corn Salsa, [Black Beans, Cheese, Guacamole, Lettuce]]': 1,\n",
       " '[Fresh Tomato Salsa, [Fajita Vegetables, Rice, Cheese, Sour Cream, Lettuce]]': 10,\n",
       " '[Tomatillo Red Chili Salsa, [Fajita Vegetables, Rice, Cheese, Sour Cream]]': 1,\n",
       " '[Roasted Chili Corn Salsa, [Rice, Black Beans, Sour Cream, Lettuce]]': 2,\n",
       " '[Fresh Tomato Salsa (Mild), [Rice, Pinto Beans, Cheese, Guacamole, Lettuce]]': 1,\n",
       " '[Fresh Tomato Salsa, [Rice, Black Beans, Pinto Beans, Cheese, Sour Cream, Guacamole, Lettuce]]': 3,\n",
       " '[Fresh Tomato Salsa (Mild), [Black Beans, Fajita Veggies, Cheese, Sour Cream, Lettuce]]': 1,\n",
       " '[Fresh Tomato Salsa, [Fajita Vegetables, Guacamole]]': 2,\n",
       " '[Fresh Tomato Salsa, [Rice, Sour Cream, Cheese, Guacamole]]': 3,\n",
       " '[[Fresh Tomato Salsa (Mild), Tomatillo-Red Chili Salsa (Hot)], [Black Beans, Rice, Fajita Veggies, Cheese, Lettuce]]': 1,\n",
       " '[Fresh Tomato Salsa, [Fajita Vegetables, Sour Cream, Cheese, Guacamole]]': 1,\n",
       " '[[Fresh Tomato Salsa (Mild), Tomatillo-Red Chili Salsa (Hot)], [Black Beans, Rice, Cheese, Sour Cream, Guacamole, Lettuce]]': 1,\n",
       " '[Fresh Tomato Salsa, [Fajita Vegetables, Rice, Cheese, Sour Cream, Guacamole, Lettuce]]': 19,\n",
       " '[Fresh Tomato Salsa, [Cheese, Rice, Black Beans]]': 1,\n",
       " '[Roasted Chili Corn Salsa (Medium), [Pinto Beans, Black Beans, Rice, Fajita Veggies, Cheese, Lettuce]]': 1,\n",
       " '[Tomatillo Green Chili Salsa, [Rice, Fajita Vegetables, Cheese, Lettuce]]': 1,\n",
       " '[Roasted Chili Corn Salsa, [Cheese, Guacamole, Lettuce]]': 1,\n",
       " '[[Roasted Chili Corn Salsa (Medium), Tomatillo-Green Chili Salsa (Medium)], [Rice, Black Beans, Sour Cream, Guacamole]]': 1,\n",
       " '[Roasted Chili Corn Salsa, [Fajita Vegetables, Rice, Black Beans, Cheese, Sour Cream, Lettuce]]': 6,\n",
       " '[Fresh Tomato Salsa, [Black Beans, Cheese, Lettuce]]': 1,\n",
       " '[Fresh Tomato Salsa, [Rice, Fajita Vegetables, Black Beans]]': 1,\n",
       " '[Tomatillo-Green Chili Salsa (Medium), [Pinto Beans, Rice, Fajita Veggies, Lettuce]]': 1,\n",
       " '[Fresh Tomato (Mild), [Rice, Sour Cream, Cheese]]': 1,\n",
       " '[Fresh Tomato Salsa, [Rice, Black Beans, Lettuce, Cheese]]': 1,\n",
       " '[Tomatillo Red Chili Salsa, [Black Beans, Cheese]]': 1,\n",
       " '[Roasted Chili Corn Salsa (Medium), [Black Beans, Rice, Cheese]]': 4,\n",
       " '[Tomatillo Red Chili Salsa, [Fajita Vegetables, Rice, Cheese, Sour Cream, Lettuce]]': 2,\n",
       " '[Roasted Chili Corn Salsa, [Fajita Vegetables, Rice, Black Beans, Guacamole]]': 8,\n",
       " '[Tomatillo Green Chili Salsa, [Lettuce, Guacamole, Sour Cream, Cheese, Fajita Vegetables, Rice]]': 1,\n",
       " '[Roasted Chili Corn Salsa, [Black Beans, Sour Cream, Cheese, Guacamole]]': 1,\n",
       " '[Roasted Chili Corn Salsa, [Rice, Black Beans, Cheese, Sour Cream, Guacamole]]': 3,\n",
       " '[[Fresh Tomato Salsa (Mild), Roasted Chili Corn Salsa (Medium)], [Rice, Fajita Veggies]]': 5,\n",
       " '[Fresh Tomato Salsa, [Rice, Cheese, Sour Cream]]': 23,\n",
       " '[[Tomatillo-Green Chili Salsa (Medium), Roasted Chili Corn Salsa (Medium)], [Rice, Cheese, Sour Cream, Guacamole, Lettuce]]': 2,\n",
       " '[Fresh Tomato Salsa (Mild), [Black Beans, Rice, Fajita Veggies, Cheese]]': 4,\n",
       " '[Tomatillo Green Chili Salsa, [Fajita Vegetables, Black Beans, Cheese, Lettuce]]': 1,\n",
       " '[Roasted Chili Corn Salsa, [Fajita Vegetables, Rice, Cheese, Sour Cream, Guacamole, Lettuce]]': 6,\n",
       " '[[Roasted Chili Corn Salsa (Medium), Fresh Tomato Salsa (Mild)], [Rice, Pinto Beans, Cheese, Sour Cream, Guacamole, Lettuce]]': 1,\n",
       " '[Fresh Tomato (Mild), [Black Beans, Guacamole, Rice, Sour Cream, Cheese]]': 1,\n",
       " '[Tomatillo Red Chili Salsa, [Rice, Black Beans, Pinto Beans, Cheese, Sour Cream]]': 1,\n",
       " '[Tomatillo Green Chili Salsa, [Cheese, Sour Cream, Lettuce]]': 1,\n",
       " '[Fresh Tomato Salsa, [Rice, Fajita Vegetables, Black Beans, Lettuce, Guacamole]]': 3,\n",
       " '[Tomatillo-Green Chili Salsa (Medium), [Pinto Beans, Rice, Fajita Veggies, Cheese, Sour Cream, Lettuce]]': 1,\n",
       " '[Tomatillo Green Chili Salsa, [Pinto Beans, Sour Cream, Guacamole]]': 1,\n",
       " '[[Tomatillo-Red Chili Salsa (Hot), Fresh Tomato Salsa (Mild)], [Rice, Pinto Beans, Cheese, Guacamole]]': 1,\n",
       " '[Roasted Chili Corn Salsa (Medium), [Black Beans, Rice, Cheese, Sour Cream, Lettuce]]': 7,\n",
       " '[Tomatillo Red Chili Salsa, [Cheese, Sour Cream, Guacamole, Lettuce]]': 1,\n",
       " '[Roasted Chili Corn Salsa (Medium), [Pinto Beans, Rice, Fajita Veggies, Sour Cream, Lettuce]]': 1,\n",
       " '[Roasted Chili Corn Salsa, [Rice, Cheese, Guacamole, Lettuce]]': 1,\n",
       " '[Tomatillo-Red Chili Salsa (Hot), [Cheese, Lettuce, Rice, Black Beans]]': 1,\n",
       " '[Tomatillo Green Chili Salsa, [Rice, Cheese, Sour Cream, Guacamole, Lettuce]]': 3,\n",
       " '[Fresh Tomato Salsa (Mild), [Fajita Veggies, Guacamole, Lettuce]]': 1,\n",
       " '[Fresh Tomato Salsa, [Rice, Black Beans, Pinto Beans, Cheese, Sour Cream, Guacamole]]': 1,\n",
       " '[[Fresh Tomato Salsa (Mild), Roasted Chili Corn Salsa (Medium)], [Fajita Veggies, Rice]]': 1,\n",
       " '[Tomatillo Red Chili Salsa, [Fajita Vegetables, Black Beans, Pinto Beans, Cheese, Sour Cream, Guacamole, Lettuce]]': 1,\n",
       " '[Grapefruit]': 4,\n",
       " '[Tomatillo-Red Chili Salsa (Hot), Fajita Veggies]': 1,\n",
       " '[Roasted Chili Corn Salsa, [Fajita Vegetables, Cheese, Sour Cream, Guacamole, Lettuce]]': 1,\n",
       " '[[Tomatillo-Green Chili Salsa (Medium), Roasted Chili Corn Salsa (Medium), Tomatillo-Red Chili Salsa (Hot)], [Pinto Beans, Rice, Fajita Veggies, Cheese, Sour Cream, Lettuce]]': 2,\n",
       " '[Tomatillo Red Chili Salsa, Lettuce]': 1,\n",
       " '[Fresh Tomato Salsa, [Rice, Pinto Beans, Cheese, Lettuce]]': 9,\n",
       " '[Roasted Chili Corn Salsa (Medium), [Black Beans, Rice, Cheese, Guacamole, Lettuce]]': 2,\n",
       " '[Fresh Tomato Salsa (Mild), [Pinto Beans, Black Beans, Rice, Fajita Veggies, Cheese, Sour Cream, Lettuce]]': 1,\n",
       " '[Tomatillo Red Chili Salsa, [Fajita Vegetables, Rice, Black Beans, Cheese, Sour Cream, Guacamole]]': 1,\n",
       " '[Tomatillo-Green Chili Salsa (Medium), [Black Beans, Rice, Fajita Veggies, Cheese, Sour Cream, Guacamole, Lettuce]]': 1,\n",
       " '[Fresh Tomato Salsa, [Fajita Vegetables, Rice, Black Beans, Cheese, Guacamole, Lettuce]]': 19,\n",
       " '[Tomatillo Red Chili Salsa, [Black Beans, Cheese, Guacamole]]': 2,\n",
       " '[[Fresh Tomato Salsa (Mild), Tomatillo-Green Chili Salsa (Medium), Roasted Chili Corn Salsa (Medium)], [Pinto Beans, Rice, Cheese, Sour Cream, Lettuce]]': 1,\n",
       " '[[Tomatillo-Green Chili Salsa (Medium), Tomatillo-Red Chili Salsa (Hot)], [Black Beans, Rice, Cheese, Lettuce]]': 1,\n",
       " '[Fresh Tomato Salsa, [Fajita Vegetables, Guacamole, Lettuce]]': 1,\n",
       " '[Roasted Chili Corn Salsa, [Rice, Pinto Beans]]': 1,\n",
       " '[[Tomatillo-Red Chili Salsa (Hot), Tomatillo-Green Chili Salsa (Medium)], [Rice, Pinto Beans, Cheese, Lettuce]]': 1,\n",
       " '[Tomatillo Red Chili Salsa, [Rice, Black Beans, Cheese, Sour Cream, Guacamole]]': 1,\n",
       " '[Tomatillo Red Chili (Hot), [Lettuce, Rice, Cheese]]': 1,\n",
       " '[Fresh Tomato Salsa, [Rice, Fajita Vegetables, Cheese, Lettuce]]': 1,\n",
       " '[Fresh Tomato Salsa, [Rice, Cheese, Lettuce, Pinto Beans]]': 1,\n",
       " '[Brown Rice]': 1,\n",
       " '[Tomatillo Red Chili Salsa, [Fajita Vegetables, Rice, Black Beans, Sour Cream, Guacamole, Lettuce]]': 1,\n",
       " '[Fresh Tomato Salsa, [Fajita Vegetables, Rice, Pinto Beans, Cheese, Sour Cream, Guacamole, Lettuce]]': 8,\n",
       " '[Fresh Tomato Salsa (Mild), [Black Beans, Rice, Cheese, Sour Cream, Guacamole]]': 3,\n",
       " '[Fresh Tomato Salsa (Mild), [Fajita Veggies, Cheese, Sour Cream, Lettuce]]': 1,\n",
       " '[[Tomatillo-Red Chili Salsa (Hot), Fresh Tomato Salsa (Mild)], [Rice, Fajita Veggies, Cheese, Sour Cream, Guacamole, Lettuce]]': 1,\n",
       " '[[Roasted Chili Corn Salsa (Medium), Tomatillo-Red Chili Salsa (Hot)], [Rice, Fajita Veggies, Cheese, Lettuce]]': 1,\n",
       " '[Fresh Tomato Salsa (Mild), [Rice, Fajita Veggies, Sour Cream, Lettuce]]': 1,\n",
       " '[Tomatillo-Red Chili Salsa (Hot), [Rice, Cheese, Guacamole]]': 1,\n",
       " '[Tomatillo Green Chili Salsa, [Sour Cream, Cheese, Guacamole, Rice, Fajita Vegetables]]': 1,\n",
       " '[Tomatillo Green Chili Salsa, [Fajita Vegetables, Rice, Lettuce]]': 1,\n",
       " '[Tomatillo Red Chili Salsa, [Rice, Fajita Vegetables, Sour Cream, Cheese, Lettuce, Guacamole]]': 2,\n",
       " '[Fresh Tomato Salsa, [Sour Cream, Cheese, Guacamole, Rice]]': 1,\n",
       " '[Fresh Tomato Salsa, [Fajita Vegetables, Rice, Black Beans, Sour Cream, Guacamole]]': 1,\n",
       " '[Tomatillo-Red Chili Salsa (Hot), [Rice, Pinto Beans, Cheese]]': 1,\n",
       " '[Roasted Chili Corn Salsa (Medium), [Pinto Beans, Rice, Guacamole]]': 1,\n",
       " '[Tomatillo Green Chili Salsa, [Cheese, Lettuce, Pinto Beans, Rice]]': 1,\n",
       " '[[Roasted Chili Corn Salsa (Medium), Fresh Tomato Salsa (Mild)], [Rice, Black Beans, Fajita Veggies, Guacamole]]': 2,\n",
       " '[Fresh Tomato Salsa (Mild), [Rice, Cheese, Sour Cream]]': 2,\n",
       " '[Fresh Tomato Salsa, [Rice, Guacamole, Cheese, Sour Cream]]': 2,\n",
       " '[Roasted Chili Corn Salsa (Medium), [Rice, Black Beans, Sour Cream, Guacamole]]': 2,\n",
       " '[Fresh Tomato Salsa, [Fajita Vegetables, Lettuce, Guacamole, Sour Cream, Cheese, Black Beans, Rice]]': 1,\n",
       " '[Rice, Tomatillo-Red Chili Salsa (Hot)]': 2,\n",
       " '[Roasted Chili Corn Salsa, [Fajita Vegetables, Rice, Black Beans, Sour Cream, Lettuce]]': 1,\n",
       " '[Tomatillo Red Chili Salsa, [Rice, Lettuce]]': 2,\n",
       " '[Roasted Chili Corn Salsa, [Fajita Vegetables, Black Beans, Cheese, Sour Cream, Guacamole, Lettuce]]': 1,\n",
       " '[[Tomatillo-Green Chili Salsa (Medium), Tomatillo-Red Chili Salsa (Hot)], [Pinto Beans, Rice, Fajita Veggies, Cheese, Sour Cream, Guacamole]]': 1,\n",
       " '[Roasted Chili Corn Salsa, [Rice, Black Beans, Cheese, Sour Cream, Guacamole, Lettuce]]': 15,\n",
       " '[Fresh Tomato Salsa, [Rice, Black Beans, Cheese, Guacamole]]': 6,\n",
       " '[Fresh Tomato Salsa (Mild), [Cheese, Sour Cream, Lettuce]]': 4,\n",
       " '[Fresh Tomato Salsa, [Fajita Vegetables, Rice, Pinto Beans, Lettuce]]': 1,\n",
       " '[Fresh Tomato Salsa, [Fajita Vegetables, Black Beans, Cheese, Guacamole]]': 1,\n",
       " '[Tomatillo Green Chili Salsa, [Fajita Vegetables, Rice, Pinto Beans, Cheese, Guacamole, Lettuce]]': 1,\n",
       " '[[Roasted Chili Corn Salsa (Medium), Tomatillo-Red Chili Salsa (Hot)], [Pinto Beans, Rice, Fajita Veggies, Cheese]]': 1,\n",
       " '[Peach Orange]': 8,\n",
       " '[Fresh Tomato Salsa, [Sour Cream, Cheese, Lettuce, Guacamole]]': 4,\n",
       " '[Fresh Tomato Salsa (Mild), [Rice, Fajita Veggies, Sour Cream, Guacamole]]': 1,\n",
       " '[Fresh Tomato Salsa, [Black Beans, Rice, Sour Cream, Cheese, Guacamole, Lettuce]]': 1,\n",
       " '[Tomatillo Green Chili Salsa, [Rice, Black Beans, Sour Cream, Cheese, Lettuce]]': 2,\n",
       " '[Apple]': 6,\n",
       " '[Roasted Chili Corn Salsa (Medium), [Rice, Fajita Veggies, Cheese, Sour Cream, Guacamole, Lettuce]]': 2,\n",
       " '[[Fresh Tomato Salsa (Mild), Tomatillo-Red Chili Salsa (Hot)], [Black Beans, Rice, Cheese, Sour Cream, Guacamole]]': 3,\n",
       " '[Fresh Tomato Salsa, [Rice, Fajita Vegetables, Black Beans, Cheese, Lettuce, Guacamole]]': 3,\n",
       " '[[Fresh Tomato Salsa (Mild), Tomatillo-Green Chili Salsa (Medium), Roasted Chili Corn Salsa (Medium), Tomatillo-Red Chili Salsa (Hot)], [Pinto Beans, Black Beans, Rice, Cheese, Sour Cream]]': 1,\n",
       " '[[Fresh Tomato Salsa (Mild), Tomatillo-Red Chili Salsa (Hot)], [Black Beans, Rice, Fajita Veggies, Cheese, Sour Cream, Guacamole, Lettuce]]': 1,\n",
       " '[Fresh Tomato Salsa, [Fajita Vegetables, Rice, Black Beans, Pinto Beans, Cheese, Sour Cream, Lettuce]]': 1,\n",
       " '[Fresh Tomato Salsa, [Rice, Fajita Vegetables, Black Beans, Sour Cream, Cheese, Lettuce, Guacamole]]': 1,\n",
       " '[Fresh Tomato Salsa, [Rice, Pinto Beans, Sour Cream, Cheese, Lettuce]]': 4,\n",
       " '[[Tomatillo-Red Chili Salsa (Hot), Tomatillo-Green Chili Salsa (Medium)], [Rice, Pinto Beans, Fajita Veggies, Lettuce]]': 1,\n",
       " '[[Fresh Tomato Salsa (Mild), Roasted Chili Corn Salsa (Medium)], [Black Beans, Cheese, Guacamole]]': 1,\n",
       " '[Tomatillo Red Chili Salsa, [Black Beans, Cheese, Lettuce]]': 1,\n",
       " '[Fresh Tomato Salsa, [Rice, Black Beans, Cheese, Sour Cream, Lettuce]]': 42,\n",
       " '[Roasted Chili Corn Salsa, [Rice, Pinto Beans, Lettuce, Guacamole]]': 1,\n",
       " '[Roasted Chili Corn Salsa (Medium), [Rice, Black Beans, Fajita Veggies, Sour Cream]]': 2,\n",
       " '[Tomatillo-Green Chili Salsa (Medium), [Fajita Veggies, Cheese, Guacamole, Lettuce]]': 1,\n",
       " '[Roasted Chili Corn Salsa (Medium), [Pinto Beans, Rice, Fajita Veggies, Cheese, Lettuce]]': 1,\n",
       " '[Roasted Chili Corn Salsa (Medium), [Black Beans, Rice, Fajita Veggies, Cheese, Sour Cream]]': 4,\n",
       " '[Roasted Chili Corn Salsa, [Fajita Vegetables, Sour Cream, Lettuce, Guacamole]]': 1,\n",
       " '[Tomatillo Red Chili Salsa, [Black Beans, Cheese, Sour Cream, Guacamole]]': 4,\n",
       " '[Fresh Tomato Salsa, [Fajita Vegetables, Black Beans]]': 1,\n",
       " '[Fresh Tomato Salsa, [Rice, Pinto Beans, Cheese, Sour Cream]]': 10,\n",
       " '[Roasted Chili Corn Salsa, [Rice, Fajita Vegetables, Sour Cream, Lettuce, Guacamole]]': 1,\n",
       " '[Tomatillo Green Chili Salsa, [Fajita Vegetables, Rice, Cheese, Sour Cream, Lettuce]]': 9,\n",
       " '[Tomatillo-Red Chili Salsa (Hot), Lettuce]': 1,\n",
       " '[[Fresh Tomato Salsa (Mild), Tomatillo-Red Chili Salsa (Hot)], [Black Beans, Rice, Cheese, Sour Cream]]': 8,\n",
       " '[Fresh Tomato Salsa, [Guacamole, Lettuce, Rice, Cheese, Sour Cream, Black Beans]]': 1,\n",
       " '[Roasted Chili Corn Salsa, [Fajita Vegetables, Cheese, Sour Cream, Lettuce]]': 1,\n",
       " '[Fresh Tomato Salsa (Mild), [Rice, Fajita Veggies, Cheese, Sour Cream, Guacamole, Lettuce]]': 2,\n",
       " '[Fresh Tomato Salsa, [Fajita Vegetables, Sour Cream, Cheese, Lettuce, Guacamole]]': 2,\n",
       " '[Roasted Chili Corn Salsa, [Fajita Vegetables, Rice, Pinto Beans, Cheese, Sour Cream, Guacamole, Lettuce]]': 4,\n",
       " '[Fresh Tomato Salsa, [Pinto Beans, Cheese, Guacamole]]': 1,\n",
       " '[Tomatillo-Red Chili Salsa (Hot), [Pinto Beans, Rice, Cheese, Sour Cream, Guacamole]]': 2,\n",
       " '[[Tomatillo-Green Chili Salsa (Medium), Roasted Chili Corn Salsa (Medium), Tomatillo-Red Chili Salsa (Hot)], [Black Beans, Rice, Fajita Veggies, Lettuce]]': 6,\n",
       " '[Fresh Tomato Salsa, [Fajita Vegetables, Rice, Pinto Beans, Cheese, Guacamole]]': 1,\n",
       " '[Fresh Tomato Salsa, [Sour Cream, Cheese, Pinto Beans, Rice]]': 1,\n",
       " '[Tomatillo-Red Chili Salsa (Hot), [Pinto Beans, Black Beans, Rice, Fajita Veggies, Cheese, Sour Cream, Lettuce]]': 1,\n",
       " '[Roasted Chili Corn Salsa (Medium), [Rice, Black Beans, Pinto Beans, Fajita Veggies, Lettuce]]': 2,\n",
       " '[Tomatillo Green Chili Salsa, [Rice, Fajita Vegetables, Black Beans, Cheese]]': 1,\n",
       " '[[Tomatillo-Red Chili Salsa (Hot), Roasted Chili Corn Salsa (Medium)], [Guacamole, Cheese, Sour Cream]]': 1,\n",
       " '[Tomatillo Red Chili Salsa, [Rice, Black Beans, Cheese, Sour Cream, Lettuce]]': 17,\n",
       " '[Fresh Tomato Salsa (Mild), [Pinto Beans, Cheese, Lettuce]]': 1,\n",
       " '[Fresh Tomato Salsa, [Fajita Vegetables, Rice, Sour Cream, Guacamole]]': 2,\n",
       " '[Fresh Tomato Salsa, [Fajita Vegetables, Rice, Black Beans, Pinto Beans, Cheese, Lettuce]]': 2,\n",
       " '[[Fresh Tomato Salsa (Mild), Roasted Chili Corn Salsa (Medium)], [Rice, Cheese, Lettuce]]': 1,\n",
       " '[[Fresh Tomato Salsa (Mild), Roasted Chili Corn Salsa (Medium)], [Rice, Fajita Veggies, Cheese, Lettuce]]': 1,\n",
       " '[[Fresh Tomato Salsa (Mild), Roasted Chili Corn Salsa (Medium)], [Black Beans, Rice, Fajita Veggies, Cheese, Lettuce]]': 1,\n",
       " '[Tomatillo Green Chili Salsa, [Sour Cream, Guacamole]]': 1,\n",
       " '[Roasted Chili Corn Salsa (Medium), [Black Beans, Fajita Veggies, Cheese, Guacamole, Lettuce]]': 1,\n",
       " '[Fresh Tomato Salsa, [Lettuce, Sour Cream, Cheese, Fajita Vegetables, Pinto Beans, Rice]]': 1,\n",
       " '[Fresh Tomato Salsa, [Cheese, Rice, Pinto Beans]]': 1,\n",
       " '[Adobo-Marinated and Grilled Steak, [Sour Cream, Salsa, Cheese, Cilantro-Lime Rice, Guacamole]]': 1,\n",
       " '[Roasted Chili Corn Salsa, [Fajita Vegetables, Rice, Black Beans, Cheese, Guacamole]]': 2,\n",
       " '[Tomatillo-Red Chili Salsa (Hot), [Pinto Beans, Rice, Fajita Veggies, Cheese, Sour Cream]]': 5,\n",
       " '[Roasted Chili Corn Salsa, [Fajita Vegetables, Rice]]': 4,\n",
       " '[Tomatillo Green Chili Salsa, [Fajita Vegetables, Rice, Black Beans, Pinto Beans, Guacamole]]': 1,\n",
       " '[Roasted Chili Corn Salsa, [Fajita Vegetables, Rice, Cheese, Guacamole, Lettuce]]': 1,\n",
       " '[[Fresh Tomato Salsa (Mild), Roasted Chili Corn Salsa (Medium)], [Pinto Beans, Rice, Fajita Veggies, Cheese, Sour Cream, Lettuce]]': 2,\n",
       " '[Tomatillo Red Chili Salsa, [Rice, Cheese, Sour Cream, Lettuce]]': 20,\n",
       " '[[Fresh Tomato Salsa (Mild), Roasted Chili Corn Salsa (Medium)], [Black Beans, Rice, Cheese, Sour Cream, Guacamole]]': 1,\n",
       " '[Roasted Chili Corn Salsa, [Cheese, Black Beans, Lettuce]]': 2,\n",
       " '[Tomatillo Green Chili Salsa, [Rice, Cheese, Lettuce]]': 2,\n",
       " '[Fresh Tomato (Mild), [Guacamole, Sour Cream, Cheese]]': 2,\n",
       " '[Fresh Tomato (Mild), [Guacamole, Rice]]': 1,\n",
       " '[Tomatillo Red Chili Salsa, [Cheese, Rice, Black Beans]]': 1,\n",
       " '[Roasted Chili Corn Salsa, [Fajita Vegetables, Sour Cream, Cheese, Lettuce, Guacamole]]': 8,\n",
       " '[Roasted Chili Corn Salsa, [Rice, Pinto Beans, Sour Cream, Cheese, Lettuce]]': 3,\n",
       " '[Tomatillo Green Chili Salsa, [Fajita Vegetables, Pinto Beans, Sour Cream, Guacamole, Lettuce]]': 1,\n",
       " '[Fresh Tomato Salsa, [Fajita Vegetables, Rice, Black Beans, Pinto Beans, Cheese, Sour Cream]]': 1,\n",
       " '[Fresh Tomato Salsa, [Rice, Cheese, Sour Cream, Lettuce]]': 29,\n",
       " '[Roasted Chili Corn Salsa, [Rice, Black Beans, Sour Cream]]': 2,\n",
       " '[Roasted Chili Corn Salsa, Rice]': 1,\n",
       " '[Tomatillo Green Chili Salsa, [Rice, Black Beans, Cheese]]': 5,\n",
       " '[Fresh Tomato Salsa (Mild), Black Beans]': 4,\n",
       " '[Tomatillo Red Chili Salsa, [Rice, Black Beans, Sour Cream, Lettuce, Guacamole]]': 1,\n",
       " '[Fresh Tomato Salsa, [Rice, Black Beans, Pinto Beans, Cheese, Sour Cream, Lettuce]]': 3,\n",
       " '[Roasted Chili Corn Salsa (Medium), [Fajita Veggies, Cheese, Lettuce, Sour Cream, Rice]]': 1,\n",
       " '[Roasted Chili Corn Salsa, [Rice, Black Beans, Lettuce, Guacamole]]': 2,\n",
       " '[Tomatillo-Red Chili Salsa (Hot), [Black Beans, Rice, Cheese, Sour Cream, Guacamole, Lettuce]]': 3,\n",
       " '[Fresh Tomato Salsa, [Guacamole, Lettuce, Sour Cream, Rice]]': 1,\n",
       " '[Fresh Tomato Salsa, [Fajita Vegetables, Cheese, Sour Cream]]': 5,\n",
       " '[Tomatillo Red Chili Salsa, [Fajita Vegetables, Rice, Pinto Beans, Guacamole, Lettuce]]': 1,\n",
       " '[Tomatillo Red Chili Salsa, [Fajita Vegetables, Rice, Black Beans, Pinto Beans, Cheese, Sour Cream, Guacamole, Lettuce]]': 3,\n",
       " '[Fresh Tomato Salsa, [Rice, Fajita Vegetables, Cheese]]': 3,\n",
       " '[Fresh Tomato Salsa (Mild), [Black Beans, Rice, Cheese, Sour Cream, Lettuce]]': 14,\n",
       " '[Fresh Tomato Salsa, [Fajita Vegetables, Black Beans, Cheese, Guacamole, Lettuce]]': 2,\n",
       " '[Tomatillo Green Chili Salsa, [Fajita Vegetables, Rice, Cheese, Guacamole, Lettuce]]': 3,\n",
       " '[Tomatillo-Green Chili Salsa (Medium), [Rice, Cheese, Sour Cream, Lettuce]]': 9,\n",
       " '[Tomatillo Green Chili Salsa, [Rice, Black Beans]]': 1,\n",
       " '[Roasted Chili Corn Salsa, [Rice, Pinto Beans, Cheese]]': 2,\n",
       " '[[Fresh Tomato Salsa (Mild), Tomatillo-Red Chili Salsa (Hot)], [Rice, Cheese, Sour Cream, Guacamole]]': 1,\n",
       " '[Fresh Tomato Salsa, [Fajita Vegetables, Rice, Guacamole, Lettuce]]': 4,\n",
       " '[Tomatillo Red Chili Salsa, [Fajita Vegetables, Rice, Pinto Beans, Cheese, Lettuce]]': 3,\n",
       " '[Fresh Tomato Salsa, [Rice, Fajita Vegetables, Pinto Beans, Sour Cream, Cheese, Lettuce, Guacamole]]': 1,\n",
       " '[Tomatillo Green Chili Salsa, [Rice, Black Beans, Cheese, Sour Cream, Guacamole, Lettuce]]': 4,\n",
       " '[Roasted Chili Corn Salsa, [Guacamole, Lettuce, Rice, Fajita Vegetables, Sour Cream]]': 2,\n",
       " '[Roasted Chili Corn Salsa, [Rice, Black Beans, Cheese, Guacamole]]': 4,\n",
       " '[Tomatillo Green Chili Salsa, [Rice, Black Beans, Sour Cream, Cheese, Guacamole]]': 1,\n",
       " '[Pineapple Orange Banana]': 8,\n",
       " '[[Roasted Chili Corn Salsa (Medium), Fresh Tomato Salsa (Mild)], [Cheese, Fajita Veggies, Lettuce, Sour Cream, Rice, Black Beans]]': 1,\n",
       " '[Fresh Tomato Salsa, [Rice, Fajita Vegetables]]': 9,\n",
       " '[Tomatillo Green Chili Salsa, [Rice, Black Beans, Cheese, Sour Cream, Lettuce]]': 8,\n",
       " '[Tomatillo Red Chili Salsa, [Rice, Black Beans, Cheese, Lettuce, Guacamole]]': 2,\n",
       " '[Tomatillo Green Chili Salsa, [Rice, Fajita Vegetables, Sour Cream, Cheese, Lettuce, Guacamole]]': 1,\n",
       " '[Fresh Tomato Salsa, [Rice, Pinto Beans, Cheese]]': 14,\n",
       " '[Fresh Tomato Salsa, [Rice, Fajita Vegetables, Pinto Beans, Black Beans, Sour Cream, Cheese, Lettuce, Guacamole]]': 1,\n",
       " '[Tomatillo-Red Chili Salsa (Hot), [Black Beans, Rice, Cheese, Sour Cream]]': 3,\n",
       " '[Tomatillo Green Chili Salsa, [Rice, Sour Cream, Cheese, Guacamole]]': 4,\n",
       " '[Tomatillo-Green Chili Salsa (Medium), Lettuce]': 1,\n",
       " '[Fresh Tomato Salsa (Mild), [Pinto Beans, Rice, Cheese, Sour Cream, Lettuce]]': 7,\n",
       " '[[Fresh Tomato Salsa (Mild), Roasted Chili Corn Salsa (Medium), Tomatillo-Red Chili Salsa (Hot)], [Black Beans, Rice, Cheese, Sour Cream]]': 1,\n",
       " '[[Roasted Chili Corn Salsa (Medium), Tomatillo-Red Chili Salsa (Hot)], [Black Beans, Rice, Cheese, Lettuce]]': 1,\n",
       " '[[Roasted Chili Corn Salsa (Medium), Tomatillo-Green Chili Salsa (Medium)], [Rice, Black Beans, Pinto Beans, Fajita Veggies, Cheese, Sour Cream, Lettuce]]': 1,\n",
       " '[Roasted Chili Corn Salsa, [Rice, Black Beans, Sour Cream, Cheese, Lettuce, Guacamole]]': 1,\n",
       " '[Tomatillo Red Chili Salsa, [Rice, Black Beans, Sour Cream, Lettuce]]': 1,\n",
       " '[[Fresh Tomato Salsa (Mild), Roasted Chili Corn Salsa (Medium), Tomatillo-Red Chili Salsa (Hot)], [Pinto Beans, Cheese, Sour Cream, Lettuce]]': 1,\n",
       " '[Tomatillo Red Chili Salsa, [Rice, Black Beans, Cheese, Guacamole]]': 2,\n",
       " '[Tomatillo Red Chili Salsa, [Rice, Fajita Vegetables, Cheese, Lettuce]]': 1,\n",
       " '[Tomatillo Red Chili Salsa, [Rice, Sour Cream, Cheese, Lettuce]]': 1,\n",
       " '[Roasted Chili Corn Salsa, [Fajita Vegetables, Rice, Black Beans, Pinto Beans, Cheese, Lettuce]]': 1,\n",
       " '[Roasted Chili Corn Salsa, [Fajita Vegetables, Pinto Beans, Sour Cream, Cheese]]': 1,\n",
       " '[Fresh Tomato Salsa, [Rice, Fajita Vegetables, Black Beans, Sour Cream, Cheese]]': 1,\n",
       " '[Fresh Tomato Salsa, [Rice, Sour Cream, Guacamole]]': 3,\n",
       " '[Tomatillo Green Chili (Medium), [Rice, Black Beans, Sour Cream, Cheese]]': 1,\n",
       " '[Tomatillo-Green Chili Salsa (Medium), [Rice, Cheese, Guacamole]]': 2,\n",
       " '[Roasted Chili Corn Salsa, [Fajita Vegetables, Rice, Pinto Beans, Guacamole, Lettuce]]': 1,\n",
       " '[Fresh Tomato Salsa, [Lettuce, Rice, Black Beans, Cheese]]': 1,\n",
       " '[[Tomatillo-Red Chili Salsa (Hot), Tomatillo-Green Chili Salsa (Medium)], [Rice, Black Beans, Lettuce]]': 1,\n",
       " '[Tomatillo-Red Chili Salsa (Hot), [Lettuce, Guacamole, Sour Cream, Cheese, Rice, Black Beans]]': 1,\n",
       " '[Fresh Tomato Salsa, [Pinto Beans, Cheese, Lettuce]]': 1,\n",
       " '[Tomatillo Red Chili Salsa, [Fajita Vegetables, Rice, Sour Cream, Guacamole, Lettuce]]': 1,\n",
       " '[Roasted Chili Corn Salsa, [Rice, Fajita Vegetables, Black Beans, Sour Cream, Cheese, Lettuce, Guacamole]]': 1,\n",
       " '[Tomatillo-Green Chili Salsa (Medium), [Black Beans, Rice, Fajita Veggies, Sour Cream]]': 1,\n",
       " '[Tomatillo-Green Chili Salsa (Medium), [Black Beans, Rice, Cheese, Sour Cream]]': 1,\n",
       " '[[Fresh Tomato Salsa (Mild), Tomatillo-Green Chili Salsa (Medium), Roasted Chili Corn Salsa (Medium)], [Black Beans, Rice, Fajita Veggies, Cheese, Guacamole, Lettuce]]': 1,\n",
       " '[Tomatillo-Green Chili Salsa (Medium), [Black Beans, Rice, Cheese]]': 3,\n",
       " '[[Fresh Tomato Salsa (Mild), Roasted Chili Corn Salsa (Medium)], [Black Beans, Rice, Sour Cream, Guacamole, Lettuce]]': 1,\n",
       " '[Roasted Chili Corn Salsa, [Sour Cream, Guacamole]]': 1,\n",
       " '[Tomatillo Red Chili Salsa, [Rice, Black Beans, Pinto Beans, Cheese, Sour Cream, Lettuce]]': 3,\n",
       " '[Roasted Chili Corn Salsa (Medium), [Pinto Beans, Rice, Fajita Veggies, Cheese, Sour Cream, Lettuce]]': 1,\n",
       " '[Fresh Tomato Salsa, [Rice, Guacamole, Lettuce]]': 1,\n",
       " '[Tomatillo Green Chili Salsa, [Fajita Vegetables, Rice]]': 1,\n",
       " '[Tomatillo-Red Chili Salsa (Hot), [Black Beans, Fajita Veggies, Cheese, Sour Cream, Guacamole, Lettuce]]': 2,\n",
       " '[Tomatillo-Red Chili Salsa (Hot), [Rice, Cheese]]': 1,\n",
       " '[Roasted Chili Corn Salsa, [Rice, Fajita Vegetables, Black Beans, Sour Cream, Cheese, Lettuce]]': 5,\n",
       " '[Fresh Tomato Salsa, [Fajita Vegetables, Rice, Black Beans, Cheese, Sour Cream, Guacamole, Lettuce]]': 20,\n",
       " '[Fresh Tomato (Mild), [Guacamole, Lettuce, Rice, Fajita Veggies, Sour Cream, Cheese]]': 1,\n",
       " '[Fresh Tomato Salsa, [Fajita Vegetables, Cheese, Guacamole, Lettuce]]': 1,\n",
       " '[Roasted Chili Corn Salsa, [Pinto Beans, Sour Cream, Cheese, Lettuce, Guacamole]]': 1,\n",
       " '[Roasted Chili Corn Salsa, [Fajita Vegetables, Rice, Cheese, Sour Cream, Lettuce]]': 10,\n",
       " '[[Roasted Chili Corn Salsa (Medium), Fresh Tomato Salsa (Mild)], [Rice, Black Beans, Fajita Veggies, Cheese, Sour Cream, Guacamole]]': 1,\n",
       " '[Roasted Chili Corn Salsa, [Rice, Pinto Beans, Cheese, Guacamole]]': 1,\n",
       " '[Fresh Tomato Salsa, [Pinto Beans, Rice, Cheese, Lettuce, Guacamole, Sour Cream, Fajita Vegetables]]': 1,\n",
       " '[Fresh Tomato Salsa (Mild), [Black Beans, Rice, Cheese]]': 4,\n",
       " '[Roasted Chili Corn Salsa (Medium), [Rice, Black Beans, Sour Cream]]': 7,\n",
       " '[Roasted Chili Corn Salsa, [Rice, Fajita Vegetables, Sour Cream, Cheese, Lettuce]]': 4,\n",
       " '[Roasted Chili Corn Salsa (Medium), [Cheese, Sour Cream, Lettuce]]': 2,\n",
       " '[[Lettuce, Rice, Fajita Veggies]]': 1,\n",
       " '[Roasted Chili Corn Salsa, [Fajita Vegetables, Rice, Black Beans, Cheese]]': 5,\n",
       " '[Tomatillo Green Chili Salsa, [Rice, Cheese, Sour Cream, Lettuce]]': 5,\n",
       " '[[Fresh Tomato Salsa (Mild), Roasted Chili Corn Salsa (Medium)], [Black Beans, Rice, Cheese, Lettuce]]': 2,\n",
       " '[Roasted Chili Corn Salsa, [Fajita Vegetables, Black Beans, Sour Cream, Lettuce, Guacamole]]': 1,\n",
       " '[Tomatillo-Green Chili Salsa (Medium), [Rice, Fajita Veggies, Cheese, Sour Cream, Lettuce]]': 2,\n",
       " '[Tomatillo-Green Chili Salsa (Medium), [Pinto Beans, Rice, Cheese, Sour Cream]]': 8,\n",
       " '[Roasted Chili Corn Salsa, [Rice, Pinto Beans, Cheese, Guacamole, Lettuce]]': 1,\n",
       " '[[Fresh Tomato Salsa (Mild), Roasted Chili Corn Salsa (Medium), Tomatillo-Red Chili Salsa (Hot)], [Rice, Fajita Veggies, Cheese, Lettuce]]': 1,\n",
       " '[Roasted Chili Corn Salsa, [Black Beans, Cheese, Sour Cream]]': 3,\n",
       " '[Fresh Tomato Salsa (Mild), [Rice, Sour Cream, Cheese, Pinto Beans]]': 1,\n",
       " '[Tomatillo Green Chili Salsa, [Rice, Cheese, Sour Cream, Guacamole]]': 2,\n",
       " '[Roasted Chili Corn Salsa, [Rice, Fajita Vegetables, Cheese, Lettuce, Guacamole]]': 1,\n",
       " '[Roasted Chili Corn Salsa, [Rice, Fajita Vegetables, Black Beans, Sour Cream, Cheese]]': 1,\n",
       " '[[Roasted Chili Corn Salsa (Medium), Tomatillo-Red Chili Salsa (Hot), Fresh Tomato Salsa (Mild)], [Rice, Black Beans, Pinto Beans, Cheese, Sour Cream, Lettuce]]': 1,\n",
       " '[Coke]': 123,\n",
       " '[Roasted Chili Corn Salsa (Medium), [Black Beans, Rice, Fajita Veggies]]': 1,\n",
       " '[Fresh Tomato Salsa, [Rice, Black Beans, Lettuce, Guacamole]]': 1,\n",
       " '[Fresh Tomato Salsa, [Rice, Black Beans, Guacamole]]': 2,\n",
       " '[Tomatillo Red Chili Salsa, [Fajita Vegetables, Black Beans, Cheese, Sour Cream, Lettuce]]': 1,\n",
       " '[Tomatillo-Red Chili Salsa (Hot), [Pinto Beans, Rice, Fajita Veggies, Cheese, Sour Cream, Guacamole]]': 3,\n",
       " '[Roasted Chili Corn Salsa (Medium), [Black Beans, Cheese, Sour Cream, Lettuce]]': 1,\n",
       " '[Roasted Chili Corn Salsa (Medium), [Rice, Fajita Veggies, Cheese, Lettuce]]': 1,\n",
       " '[Roasted Chili Corn Salsa, [Rice, Black Beans, Sour Cream, Guacamole]]': 3,\n",
       " '[Roasted Chili Corn Salsa, [Guacamole, Sour Cream, Rice, Fajita Vegetables, Lettuce]]': 1,\n",
       " '[[Fresh Tomato Salsa (Mild), Roasted Chili Corn Salsa (Medium)], [Black Beans, Rice, Fajita Veggies, Sour Cream, Lettuce]]': 1,\n",
       " '[[Fresh Tomato Salsa (Mild), Tomatillo-Green Chili Salsa (Medium), Roasted Chili Corn Salsa (Medium)], [Black Beans, Rice, Cheese]]': 1,\n",
       " '[Fresh Tomato Salsa (Mild), [Pinto Beans, Rice, Fajita Veggies, Cheese, Guacamole, Lettuce]]': 1,\n",
       " '[Fresh Tomato Salsa, [Guacamole, Lettuce, Sour Cream, Fajita Vegetables, Cheese, Rice]]': 1,\n",
       " '[Roasted Chili Corn Salsa, [Fajita Vegetables, Rice, Black Beans, Cheese, Sour Cream, Guacamole]]': 2,\n",
       " '[Roasted Chili Corn Salsa, [Black Beans, Pinto Beans, Cheese, Sour Cream]]': 1,\n",
       " '[Roasted Chili Corn Salsa, [Black Beans, Lettuce]]': 1,\n",
       " '[Tomatillo-Red Chili Salsa (Hot), [Black Beans, Rice, Fajita Veggies, Cheese, Sour Cream]]': 1,\n",
       " '[Roasted Chili Corn Salsa, [Fajita Vegetables, Black Beans, Guacamole]]': 1,\n",
       " '[Tomatillo Red Chili Salsa, [Rice, Cheese]]': 9,\n",
       " '[Fresh Tomato Salsa (Mild), [Black Beans, Rice, Fajita Veggies, Cheese, Lettuce]]': 2,\n",
       " '[Fresh Tomato Salsa (Mild), [Rice, Fajita Veggies, Cheese, Sour Cream, Guacamole]]': 1,\n",
       " '[Tomatillo Green Chili Salsa, [Rice, Black Beans, Cheese, Sour Cream]]': 7,\n",
       " '[[Roasted Chili Corn Salsa (Medium), Tomatillo-Red Chili Salsa (Hot)], [Rice, Cheese, Sour Cream, Guacamole]]': 2,\n",
       " '[Tomatillo Red Chili Salsa, [Black Beans, Cheese, Sour Cream]]': 2,\n",
       " '[[Fresh Tomato Salsa (Mild), Roasted Chili Corn Salsa (Medium)], [Black Beans, Rice, Cheese, Sour Cream]]': 1,\n",
       " '[Fresh Tomato Salsa (Mild), [Black Beans, Rice, Fajita Veggies, Cheese, Sour Cream, Guacamole, Lettuce]]': 1,\n",
       " '[Tomatillo Green Chili Salsa, [Rice, Black Beans, Sour Cream, Lettuce]]': 4,\n",
       " '[Fresh Tomato Salsa, [Fajita Vegetables, Black Beans, Cheese]]': 1,\n",
       " '[Fresh Tomato Salsa, [Fajita Vegetables, Black Beans, Guacamole, Lettuce]]': 1,\n",
       " '[[Fresh Tomato Salsa (Mild), Tomatillo-Green Chili Salsa (Medium), Roasted Chili Corn Salsa (Medium), Tomatillo-Red Chili Salsa (Hot)], [Cheese, Sour Cream]]': 1,\n",
       " '[Fresh Tomato Salsa, [Fajita Vegetables, Rice, Pinto Beans, Cheese, Sour Cream]]': 2,\n",
       " '[Coca Cola]': 26,\n",
       " '[Tomatillo-Red Chili Salsa (Hot), [Black Beans, Rice, Fajita Veggies, Cheese, Sour Cream, Lettuce]]': 7,\n",
       " '[Tomatillo Red Chili Salsa, [Rice, Black Beans, Sour Cream, Guacamole, Lettuce]]': 2,\n",
       " '[Roasted Chili Corn Salsa, [Rice, Cheese, Sour Cream, Guacamole, Lettuce]]': 3,\n",
       " '[Tomatillo Red Chili Salsa, [Rice, Pinto Beans, Cheese, Lettuce]]': 5,\n",
       " '[Fresh Tomato Salsa, [Rice, Black Beans, Sour Cream, Cheese, Guacamole]]': 3,\n",
       " '[Fresh Tomato Salsa, [Rice, Pinto Beans, Cheese, Guacamole, Lettuce]]': 7,\n",
       " '[Pomegranate Cherry]': 5,\n",
       " '[Fresh Tomato Salsa, [Rice, Black Beans, Pinto Beans, Cheese, Sour Cream]]': 3,\n",
       " '[Fresh Tomato Salsa, [Rice, Fajita Vegetables, Black Beans, Guacamole]]': 1,\n",
       " '[Roasted Chili Corn Salsa, [Rice, Cheese, Sour Cream, Guacamole]]': 2,\n",
       " '[[Lettuce, Fajita Veggies, Rice]]': 5,\n",
       " '[Tomatillo Green Chili Salsa, [Rice, Pinto Beans, Black Beans, Sour Cream, Cheese, Lettuce]]': 1,\n",
       " '[[Roasted Chili Corn Salsa (Medium), Tomatillo-Green Chili Salsa (Medium)], [Rice, Fajita Veggies, Cheese, Sour Cream, Lettuce]]': 1,\n",
       " '[Fresh Tomato (Mild), [Black Beans, Rice, Sour Cream, Cheese]]': 2,\n",
       " '[Roasted Chili Corn Salsa (Medium), [Black Beans, Rice, Fajita Veggies, Cheese, Sour Cream, Guacamole, Lettuce]]': 5,\n",
       " '[Tomatillo Red Chili Salsa, Rice]': 4,\n",
       " '[Roasted Chili Corn Salsa (Medium), [Rice, Guacamole, Lettuce]]': 1,\n",
       " '[Fresh Tomato Salsa (Mild), [Rice, Black Beans, Sour Cream, Guacamole]]': 2,\n",
       " '[Fresh Tomato Salsa (Mild), [Rice, Cheese, Lettuce]]': 4,\n",
       " '[Roasted Chili Corn Salsa (Medium), [Rice, Pinto Beans, Lettuce]]': 1,\n",
       " '[Roasted Chili Corn Salsa, [Black Beans, Cheese, Sour Cream, Guacamole, Lettuce]]': 1,\n",
       " '[Roasted Chili Corn Salsa (Medium), Cheese]': 2,\n",
       " '[Fresh Tomato Salsa, [Fajita Vegetables, Rice, Cheese, Sour Cream, Guacamole]]': 5,\n",
       " '[Tomatillo-Red Chili Salsa (Hot), [Rice, Cheese, Sour Cream, Guacamole]]': 2,\n",
       " '[Tomatillo Red Chili (Hot), [Lettuce, Black Beans, Rice, Sour Cream, Cheese]]': 1,\n",
       " '[[Fresh Tomato Salsa (Mild), Roasted Chili Corn Salsa (Medium)], [Black Beans, Rice, Fajita Veggies, Lettuce]]': 1,\n",
       " '[Tomatillo Green Chili Salsa, [Rice, Cheese]]': 1,\n",
       " '[Roasted Chili Corn Salsa, [Fajita Vegetables, Rice, Black Beans, Lettuce]]': 2,\n",
       " '[Fresh Tomato Salsa, [Black Beans, Pinto Beans, Cheese, Sour Cream, Guacamole]]': 1,\n",
       " '[Fresh Tomato Salsa, [Fajita Vegetables, Lettuce]]': 8,\n",
       " '[Tomatillo Green Chili Salsa, [Fajita Vegetables, Rice, Cheese, Sour Cream]]': 1,\n",
       " '[[Roasted Chili Corn Salsa (Medium), Fresh Tomato Salsa (Mild)], [Rice, Black Beans, Sour Cream]]': 1,\n",
       " '[Roasted Chili Corn Salsa, [Fajita Vegetables, Black Beans, Cheese]]': 1,\n",
       " '[Tomatillo-Red Chili Salsa (Hot), [Rice, Fajita Veggies, Cheese, Sour Cream, Lettuce]]': 3,\n",
       " '[Roasted Chili Corn Salsa, [Rice, Black Beans, Cheese, Sour Cream]]': 7,\n",
       " '[Fresh Tomato Salsa, [Rice, Black Beans, Sour Cream]]': 5,\n",
       " '[Roasted Chili Corn Salsa, [Black Beans, Sour Cream, Cheese, Lettuce]]': 2,\n",
       " '[Tomatillo Red Chili Salsa, [Fajita Vegetables, Rice, Cheese, Guacamole]]': 1,\n",
       " '[Tomatillo Green Chili Salsa, [Rice, Pinto Beans, Cheese, Guacamole, Lettuce]]': 3,\n",
       " '[Tomatillo Red Chili Salsa, [Rice, Black Beans, Cheese, Guacamole, Lettuce]]': 2,\n",
       " '[Tomatillo Green Chili Salsa, [Rice, Black Beans, Pinto Beans, Cheese, Guacamole, Lettuce]]': 1,\n",
       " '[Fresh Tomato Salsa, [Rice, Black Beans, Sour Cream, Cheese, Lettuce, Guacamole]]': 4,\n",
       " '[Tomatillo Green Chili Salsa, [Fajita Vegetables, Rice, Black Beans]]': 1,\n",
       " '[Tomatillo Red Chili Salsa, [Rice, Black Beans, Cheese]]': 17,\n",
       " '[Fresh Tomato Salsa, [Rice, Fajita Vegetables, Pinto Beans, Cheese, Lettuce, Guacamole]]': 2,\n",
       " '[[Roasted Chili Corn Salsa (Medium), Fresh Tomato Salsa (Mild)], [Rice, Black Beans, Cheese, Lettuce]]': 1,\n",
       " '[Roasted Chili Corn Salsa (Medium), [Rice, Cheese]]': 3,\n",
       " '[Tomatillo Red Chili Salsa, [Rice, Black Beans, Cheese, Lettuce, Sour Cream]]': 1,\n",
       " '[[Rice, Cheese]]': 3,\n",
       " '[Roasted Chili Corn Salsa (Medium), [Black Beans, Rice, Sour Cream, Guacamole]]': 1,\n",
       " '[Fresh Tomato Salsa (Mild), [Pinto Beans, Rice, Sour Cream]]': 2,\n",
       " '[Fresh Tomato Salsa, [Rice, Fajita Vegetables, Sour Cream, Cheese, Lettuce, Guacamole]]': 1,\n",
       " '[Fresh Tomato Salsa, [Fajita Vegetables, Rice, Cheese, Guacamole]]': 3,\n",
       " '[Fresh Tomato Salsa, [Fajita Vegetables, Cheese, Sour Cream, Guacamole, Lettuce]]': 2,\n",
       " '[Tomatillo Red Chili Salsa, [Rice, Fajita Vegetables, Sour Cream, Lettuce]]': 1,\n",
       " '[Roasted Chili Corn Salsa, [Fajita Vegetables, Cheese, Lettuce]]': 2,\n",
       " '[[Fresh Tomato Salsa (Mild), Tomatillo-Red Chili Salsa (Hot)], [Rice, Cheese, Sour Cream, Guacamole, Lettuce]]': 1,\n",
       " '[Fresh Tomato Salsa, [Rice, Pinto Beans, Guacamole, Lettuce]]': 2,\n",
       " '[Adobo-Marinated and Grilled Chicken, Pinto Beans, [Sour Cream, Salsa, Cheese, Cilantro-Lime Rice, Guacamole]]': 1,\n",
       " '[Fresh Tomato Salsa (Mild), Cheese]': 1,\n",
       " '[Tomatillo-Red Chili Salsa (Hot), [Sour Cream, Cheese, Fajita Veggies, Guacamole, Rice, Pinto Beans]]': 1,\n",
       " '[Roasted Chili Corn Salsa (Medium), Lettuce]': 2,\n",
       " '[Fresh Tomato Salsa, [Rice, Black Beans, Sour Cream, Lettuce]]': 4,\n",
       " '[Fresh Tomato Salsa, [Rice, Black Beans, Guacamole, Lettuce]]': 6,\n",
       " '[Tomatillo-Green Chili Salsa (Medium), [Black Beans, Rice, Cheese, Lettuce]]': 1,\n",
       " '[[Tomatillo-Green Chili Salsa (Medium), Roasted Chili Corn Salsa (Medium)], [Rice, Fajita Veggies, Guacamole, Lettuce]]': 2,\n",
       " '[Fresh Tomato Salsa (Mild), [Rice, Fajita Veggies, Guacamole, Lettuce]]': 2,\n",
       " '[Tomatillo-Red Chili Salsa (Hot), Rice]': 2,\n",
       " '[Tomatillo-Red Chili Salsa (Hot), [Black Beans, Rice, Cheese, Lettuce]]': 12,\n",
       " '[Roasted Chili Corn Salsa, [Rice, Fajita Vegetables, Cheese, Lettuce]]': 2,\n",
       " '[Tomatillo Red Chili Salsa, [Black Beans, Cheese, Lettuce, Guacamole]]': 1,\n",
       " '[Fresh Tomato (Mild), [Lettuce, Black Beans, Rice]]': 2,\n",
       " '[Tomatillo Green Chili Salsa, [Rice, Black Beans, Pinto Beans, Cheese, Guacamole]]': 1,\n",
       " '[Tomatillo Red Chili Salsa, [Rice, Fajita Vegetables, Black Beans, Sour Cream, Cheese]]': 2,\n",
       " '[Tomatillo Red Chili Salsa, [Fajita Vegetables, Black Beans, Guacamole, Lettuce]]': 2,\n",
       " '[[Fresh Tomato Salsa (Mild), Roasted Chili Corn Salsa (Medium)], [Rice, Cheese, Sour Cream, Guacamole, Lettuce]]': 1,\n",
       " '[Roasted Chili Corn Salsa (Medium), [Black Beans, Fajita Veggies, Cheese, Sour Cream, Lettuce]]': 1,\n",
       " '[Fresh Tomato Salsa, [Fajita Vegetables, Rice, Black Beans, Cheese, Sour Cream, Lettuce]]': 21,\n",
       " '[Roasted Chili Corn Salsa, [Cheese, Sour Cream]]': 1,\n",
       " '[Roasted Chili Corn Salsa, Fajita Vegetables]': 3,\n",
       " '[Tomatillo Green Chili Salsa, [Fajita Vegetables, Black Beans, Sour Cream, Cheese]]': 1,\n",
       " '[Mountain Dew]': 15,\n",
       " '[Fresh Tomato Salsa, [Lettuce, Fajita Vegetables, Guacamole, Rice, Black Beans]]': 1,\n",
       " '[[Fresh Tomato Salsa (Mild), Tomatillo-Green Chili Salsa (Medium)], [Pinto Beans, Rice, Fajita Veggies, Cheese, Sour Cream, Lettuce]]': 1,\n",
       " '[[Fresh Tomato Salsa (Mild), Tomatillo-Red Chili Salsa (Hot)], [Rice, Fajita Veggies, Cheese, Sour Cream, Guacamole, Lettuce]]': 1,\n",
       " '[[Fresh Tomato Salsa (Mild), Roasted Chili Corn Salsa (Medium)], [Rice, Sour Cream, Guacamole, Lettuce]]': 1,\n",
       " '[Roasted Chili Corn Salsa, [Lettuce, Cheese]]': 1,\n",
       " '[Fresh Tomato Salsa, [Rice, Pinto Beans, Sour Cream, Cheese]]': 4,\n",
       " '[Roasted Chili Corn Salsa, [Cheese, Sour Cream, Guacamole]]': 1,\n",
       " '[Fresh Tomato Salsa, Sour Cream]': 3,\n",
       " '[Fresh Tomato Salsa, [Rice, Guacamole]]': 3,\n",
       " '[Fresh Tomato Salsa (Mild), [Pinto Beans, Rice, Cheese, Sour Cream, Guacamole, Lettuce]]': 1,\n",
       " '[Roasted Chili Corn Salsa, [Rice, Cheese, Lettuce]]': 6,\n",
       " '[Tomatillo Red Chili Salsa, [Sour Cream, Cheese, Guacamole, Lettuce, Black Beans, Rice]]': 1,\n",
       " '[Braised Barbacoa, Vegetarian Black Beans, [Sour Cream, Salsa, Cheese, Cilantro-Lime Rice]]': 1,\n",
       " '[[Fresh Tomato Salsa (Mild), Tomatillo-Green Chili Salsa (Medium)], [Rice, Fajita Veggies, Cheese, Guacamole, Lettuce]]': 2,\n",
       " '[[Tomatillo-Red Chili Salsa (Hot), Tomatillo-Green Chili Salsa (Medium)], [Rice, Black Beans, Cheese, Lettuce]]': 2,\n",
       " '[Roasted Chili Corn Salsa, [Fajita Vegetables, Black Beans, Cheese, Sour Cream, Lettuce]]': 1,\n",
       " '[Fresh Tomato Salsa, [Guacamole, Cheese, Rice, Sour Cream, Fajita Vegetables]]': 1,\n",
       " '[Tomatillo-Red Chili Salsa (Hot), [Black Beans, Rice, Fajita Veggies, Cheese]]': 1,\n",
       " '[Fresh Tomato (Mild), [Lettuce, Fajita Veggies, Pinto Beans, Rice, Sour Cream, Cheese]]': 1,\n",
       " '[Roasted Chili Corn Salsa, [Rice, Black Beans, Cheese, Lettuce, Guacamole]]': 7,\n",
       " '[Tomatillo-Red Chili Salsa (Hot), [Rice, Black Beans, Cheese]]': 1,\n",
       " '[[Roasted Chili Corn Salsa (Medium), Tomatillo-Red Chili Salsa (Hot)], [Black Beans, Rice, Fajita Veggies, Cheese, Guacamole, Lettuce]]': 1,\n",
       " '[[Tomatillo-Green Chili Salsa (Medium), Tomatillo-Red Chili Salsa (Hot)], [Black Beans, Rice, Cheese, Sour Cream, Guacamole]]': 1,\n",
       " '[Tomatillo Red Chili Salsa, [Rice, Pinto Beans, Sour Cream, Guacamole, Lettuce]]': 5,\n",
       " '[Roasted Chili Corn Salsa, [Rice, Black Beans, Cheese, Lettuce]]': 5,\n",
       " '[Tomatillo Green Chili Salsa, [Fajita Vegetables, Black Beans, Sour Cream, Lettuce]]': 1,\n",
       " '[Tomatillo Green Chili Salsa, [Rice, Fajita Vegetables, Sour Cream, Cheese, Lettuce]]': 4,\n",
       " '[Fresh Tomato (Mild), [Guacamole, Rice, Black Beans]]': 1,\n",
       " '[Tomatillo Red Chili Salsa, [Rice, Black Beans, Pinto Beans, Cheese, Lettuce]]': 1,\n",
       " '[Tomatillo Red Chili Salsa, [Rice, Sour Cream]]': 2,\n",
       " '[Tomatillo Green Chili Salsa, [Fajita Vegetables, Rice, Black Beans, Pinto Beans, Cheese]]': 1,\n",
       " '[Tomatillo-Red Chili Salsa (Hot), [Black Beans, Rice, Cheese, Sour Cream, Guacamole]]': 4,\n",
       " '[[Roasted Chili Corn Salsa (Medium), Tomatillo-Green Chili Salsa (Medium)], [Rice, Black Beans, Sour Cream]]': 2,\n",
       " '[Roasted Chili Corn Salsa, [Sour Cream, Cheese, Lettuce, Guacamole]]': 2,\n",
       " '[Fresh Tomato Salsa (Mild), Lettuce]': 1,\n",
       " '[Fresh Tomato Salsa, [Rice, Pinto Beans, Cheese, Sour Cream, Lettuce]]': 11,\n",
       " '[Roasted Chili Corn Salsa, [Rice, Pinto Beans, Sour Cream, Cheese]]': 1,\n",
       " '[Tomatillo Red Chili Salsa, Cheese]': 3,\n",
       " '[Fresh Tomato Salsa, [Rice, Black Beans, Sour Cream, Guacamole, Lettuce]]': 2,\n",
       " '[Tomatillo Green Chili Salsa, [Fajita Vegetables, Rice, Pinto Beans, Cheese, Sour Cream]]': 1,\n",
       " '[Fresh Tomato Salsa, [Cheese, Lettuce]]': 17,\n",
       " '[Tomatillo Green Chili Salsa, [Fajita Vegetables, Rice, Sour Cream, Guacamole]]': 1,\n",
       " '[Fresh Tomato Salsa, [Fajita Vegetables, Rice, Cheese, Sour Cream]]': 4,\n",
       " '[Roasted Chili Corn Salsa, [Rice, Pinto Beans, Cheese, Lettuce]]': 4,\n",
       " '[Fresh Tomato Salsa, [Fajita Vegetables, Rice, Black Beans, Pinto Beans, Cheese]]': 1,\n",
       " '[Tomatillo-Green Chili Salsa (Medium), [Cheese, Sour Cream]]': 3,\n",
       " '[Fresh Tomato Salsa, [Rice, Black Beans, Lettuce]]': 3,\n",
       " '[Fresh Tomato Salsa, [Fajita Vegetables, Rice, Black Beans, Cheese, Guacamole]]': 2,\n",
       " '[Roasted Chili Corn Salsa, [Rice, Sour Cream]]': 1,\n",
       " '[Fresh Tomato Salsa, [Pinto Beans, Lettuce]]': 1,\n",
       " '[Fresh Tomato Salsa, [Rice, Cheese, Sour Cream, Guacamole]]': 12,\n",
       " '[[Fresh Tomato Salsa (Mild), Roasted Chili Corn Salsa (Medium)], [Rice, Guacamole, Lettuce]]': 1,\n",
       " '[Adobo-Marinated and Grilled Chicken]': 1,\n",
       " '[Tomatillo Red Chili Salsa, [Sour Cream, Cheese, Rice]]': 1,\n",
       " '[Fresh Tomato Salsa (Mild), [Fajita Veggies, Cheese, Sour Cream, Guacamole, Lettuce]]': 1,\n",
       " '[Fresh Tomato Salsa, [Rice, Black Beans, Pinto Beans, Cheese, Guacamole, Lettuce]]': 1,\n",
       " '[Tomatillo-Green Chili Salsa (Medium), [Black Beans, Rice, Cheese, Sour Cream, Lettuce]]': 2,\n",
       " '[[Tomatillo-Green Chili Salsa (Medium), Roasted Chili Corn Salsa (Medium)], [Black Beans, Rice, Fajita Veggies, Cheese, Sour Cream, Lettuce]]': 2,\n",
       " '[Fresh Tomato Salsa, [Rice, Black Beans, Cheese, Lettuce]]': 25,\n",
       " '[[Tomatillo-Green Chili Salsa (Medium), Roasted Chili Corn Salsa (Medium)], [Black Beans, Rice, Cheese, Sour Cream, Lettuce]]': 1,\n",
       " '[Fresh Tomato Salsa, [Fajita Vegetables, Cheese, Lettuce]]': 2,\n",
       " '[Fresh Tomato Salsa, [Rice, Fajita Vegetables, Sour Cream, Cheese, Lettuce]]': 1,\n",
       " '[[Tomatillo-Red Chili Salsa (Hot), Fresh Tomato Salsa (Mild)], [Rice, Black Beans, Lettuce]]': 1,\n",
       " '[Tomatillo-Green Chili Salsa (Medium), [Black Beans, Rice, Fajita Veggies, Cheese, Sour Cream]]': 1,\n",
       " '[Roasted Chili Corn Salsa, [Rice, Fajita Vegetables]]': 1,\n",
       " '[Fresh Tomato Salsa (Mild), [Cheese, Sour Cream]]': 3,\n",
       " '[Tomatillo-Red Chili Salsa (Hot), [Rice, Black Beans, Cheese, Lettuce]]': 4,\n",
       " '[Fresh Tomato Salsa (Mild), [Rice, Cheese, Sour Cream, Lettuce]]': 14,\n",
       " '[Fresh Tomato Salsa, [Pinto Beans, Cheese, Sour Cream, Guacamole]]': 2,\n",
       " '[Fresh Tomato Salsa, [Sour Cream, Rice, Guacamole, Lettuce]]': 1,\n",
       " '[Tomatillo Green Chili Salsa, [Rice, Black Beans, Guacamole, Lettuce]]': 3,\n",
       " '[[Roasted Chili Corn Salsa (Medium), Tomatillo-Red Chili Salsa (Hot)], [Black Beans, Rice, Fajita Veggies, Guacamole, Lettuce]]': 2,\n",
       " '[Fresh Tomato Salsa, [Fajita Vegetables, Rice, Pinto Beans, Cheese, Guacamole, Lettuce]]': 5,\n",
       " '[Roasted Chili Corn Salsa (Medium), [Rice, Sour Cream, Lettuce]]': 1,\n",
       " '[Fresh Tomato Salsa, [Rice, Black Beans, Pinto Beans, Guacamole, Lettuce]]': 1,\n",
       " '[Roasted Chili Corn Salsa, [Rice, Black Beans, Guacamole, Lettuce]]': 1,\n",
       " '[Tomatillo-Green Chili Salsa (Medium), [Rice, Fajita Veggies, Cheese, Lettuce]]': 1,\n",
       " '[Roasted Chili Corn Salsa, [Fajita Vegetables, Rice, Pinto Beans, Cheese, Lettuce]]': 1,\n",
       " '[[Tomatillo-Green Chili Salsa (Medium), Roasted Chili Corn Salsa (Medium), Tomatillo-Red Chili Salsa (Hot)], [Pinto Beans, Rice, Fajita Veggies, Cheese, Sour Cream, Guacamole, Lettuce]]': 1,\n",
       " '[Tomatillo Red Chili Salsa]': 9,\n",
       " '[Fresh Tomato Salsa, [Pinto Beans, Cheese, Sour Cream]]': 4,\n",
       " '[Fresh Tomato Salsa, [Fajita Vegetables, Rice, Cheese, Lettuce]]': 4,\n",
       " '[Braised Barbacoa, Pinto Beans, [Sour Cream, Salsa, Cheese, Cilantro-Lime Rice, Guacamole]]': 1,\n",
       " '[Fresh Tomato Salsa, [Rice, Fajita Vegetables, Cheese, Lettuce, Guacamole]]': 1,\n",
       " '[Tomatillo Green Chili Salsa, [Fajita Vegetables, Sour Cream]]': 1,\n",
       " '[Roasted Chili Corn Salsa, [Fajita Vegetables, Pinto Beans, Sour Cream, Guacamole]]': 1,\n",
       " '[Roasted Chili Corn Salsa, [Black Beans, Cheese, Guacamole]]': 1,\n",
       " '[Fresh Tomato Salsa (Mild), [Black Beans, Rice, Fajita Veggies, Sour Cream, Lettuce]]': 1,\n",
       " '[Tomatillo-Red Chili Salsa (Hot), Cheese]': 2,\n",
       " '[Tomatillo Red Chili Salsa, [Rice, Fajita Vegetables, Black Beans, Sour Cream, Cheese, Lettuce, Guacamole]]': 2,\n",
       " '[Fresh Tomato Salsa, [Guacamole, Lettuce]]': 1,\n",
       " '[Roasted Chili Corn Salsa (Medium), [Rice, Fajita Veggies, Sour Cream]]': 1,\n",
       " '[Fresh Tomato Salsa, [Guacamole, Sour Cream, Cheese, Rice, Fajita Vegetables]]': 2,\n",
       " '[Tomatillo Green Chili Salsa, [Fajita Vegetables, Lettuce]]': 1,\n",
       " '[Fresh Tomato Salsa (Mild), [Fajita Veggies, Cheese, Sour Cream, Guacamole]]': 1,\n",
       " '[Fresh Tomato Salsa, [Rice, Pinto Beans, Lettuce]]': 2,\n",
       " '[Tomatillo-Green Chili Salsa (Medium), [Rice, Black Beans, Sour Cream, Guacamole]]': 1,\n",
       " '[Fresh Tomato Salsa, [Rice, Black Beans, Cheese, Sour Cream, Guacamole, Lettuce]]': 40,\n",
       " '[Adobo-Marinated and Grilled Steak]': 1,\n",
       " '[Tomatillo Red Chili Salsa, Sour Cream]': 1,\n",
       " '[Tomatillo Red Chili Salsa, [Fajita Vegetables, Rice, Black Beans, Cheese, Sour Cream, Guacamole, Lettuce]]': 10,\n",
       " '[Fresh Tomato Salsa (Mild), [Pinto Beans, Black Beans, Rice, Cheese, Sour Cream, Lettuce]]': 1,\n",
       " '[[Fresh Tomato Salsa (Mild), Roasted Chili Corn Salsa (Medium)], [Black Beans, Rice, Fajita Veggies, Cheese, Sour Cream]]': 1,\n",
       " '[Fresh Tomato Salsa, [Rice, Pinto Beans, Cheese, Sour Cream, Guacamole]]': 3,\n",
       " '[Fresh Tomato Salsa (Mild), [Rice, Black Beans, Fajita Veggies, Cheese, Sour Cream, Lettuce]]': 2,\n",
       " '[Fresh Tomato Salsa (Mild), [Rice, Fajita Veggies, Cheese, Lettuce, Black Beans]]': 1,\n",
       " '[Tomatillo-Red Chili Salsa (Hot), [Rice, Fajita Veggies, Cheese, Sour Cream]]': 1,\n",
       " '[Fresh Tomato Salsa (Mild), [Pinto Beans, Cheese]]': 1,\n",
       " '[Roasted Chili Corn (Medium), [Lettuce, Black Beans, Rice, Sour Cream, Cheese]]': 1,\n",
       " '[Tomatillo Red Chili Salsa, [Rice, Black Beans, Cheese, Lettuce]]': 5,\n",
       " '[Roasted Chili Corn Salsa, [Rice, Black Beans, Sour Cream, Cheese, Lettuce]]': 4,\n",
       " '[Fresh Tomato (Mild), [Lettuce, Rice]]': 2,\n",
       " '[Tomatillo-Red Chili Salsa (Hot), [Pinto Beans, Rice, Fajita Veggies, Cheese, Sour Cream, Lettuce]]': 1,\n",
       " '[Fresh Tomato (Mild), [Lettuce, Pinto Beans, Rice, Sour Cream, Cheese]]': 1,\n",
       " '[Tomatillo Red Chili Salsa, [Rice, Pinto Beans, Sour Cream, Cheese, Lettuce]]': 1,\n",
       " '[Fresh Tomato (Mild), [Guacamole, Rice, Sour Cream, Cheese]]': 1,\n",
       " '[[Roasted Chili Corn Salsa (Medium), Tomatillo-Red Chili Salsa (Hot)], [Cheese, Lettuce]]': 1,\n",
       " '[Tomatillo Red Chili Salsa, [Rice, Fajita Vegetables, Black Beans, Sour Cream, Cheese, Guacamole]]': 1,\n",
       " '[Roasted Chili Corn Salsa, [Black Beans, Cheese, Sour Cream, Guacamole]]': 1,\n",
       " '[Fresh Tomato Salsa, [Cheese, Sour Cream]]': 7,\n",
       " '[Roasted Chili Corn Salsa, [Fajita Vegetables, Rice, Black Beans, Sour Cream, Guacamole]]': 2,\n",
       " '[Tomatillo Red Chili Salsa, [Black Beans, Lettuce]]': 1,\n",
       " '[[Roasted Chili Corn Salsa (Medium), Tomatillo-Red Chili Salsa (Hot)], [Black Beans, Rice, Fajita Veggies, Cheese, Sour Cream, Guacamole, Lettuce]]': 1,\n",
       " '[Fresh Tomato Salsa (Mild), [Black Beans, Rice, Cheese, Sour Cream, Guacamole, Lettuce]]': 5,\n",
       " '[Fresh Tomato Salsa, [Black Beans, Pinto Beans, Cheese, Guacamole, Lettuce]]': 2,\n",
       " '[Fresh Tomato Salsa (Mild), [Black Beans, Rice, Cheese, Sour Cream]]': 3,\n",
       " '[Fresh Tomato Salsa, [Fajita Vegetables, Rice, Black Beans, Cheese, Sour Cream, Guacamole]]': 5,\n",
       " '[Roasted Chili Corn Salsa, [Fajita Vegetables, Rice, Black Beans, Pinto Beans, Cheese, Sour Cream, Lettuce]]': 2,\n",
       " '[[Roasted Chili Corn Salsa (Medium), Tomatillo-Red Chili Salsa (Hot)], [Pinto Beans, Rice, Fajita Veggies, Cheese, Sour Cream, Lettuce]]': 1,\n",
       " '[Tomatillo-Red Chili Salsa (Hot), [Rice, Black Beans, Fajita Veggies, Guacamole]]': 1,\n",
       " '[Roasted Chili Corn Salsa, [Pinto Beans, Cheese, Sour Cream, Lettuce]]': 1,\n",
       " '[Tomatillo Green Chili Salsa, [Rice, Cheese, Guacamole, Lettuce]]': 5,\n",
       " '[Roasted Chili Corn Salsa, [Fajita Vegetables, Rice, Cheese, Lettuce]]': 6,\n",
       " '[Tomatillo Red Chili Salsa, [Rice, Cheese, Sour Cream, Guacamole, Lettuce]]': 3,\n",
       " '[[Fresh Tomato Salsa (Mild), Roasted Chili Corn Salsa (Medium)], [Rice, Fajita Veggies, Cheese, Sour Cream, Guacamole, Lettuce]]': 1,\n",
       " '[White Rice, Adobo-Marinated and Grilled Chicken, Vegetarian Black Beans]': 1,\n",
       " '[Fresh Tomato Salsa, [Pinto Beans, Rice, Lettuce, Cheese]]': 1,\n",
       " '[Fresh Tomato Salsa, [Rice, Black Beans, Cheese, Guacamole, Lettuce]]': 21,\n",
       " '[Fresh Tomato Salsa, [Rice, Fajita Vegetables, Pinto Beans, Cheese, Guacamole]]': 1,\n",
       " '[Roasted Chili Corn Salsa, [Fajita Vegetables, Lettuce, Black Beans]]': 1,\n",
       " '[Roasted Chili Corn Salsa (Medium), [Pinto Beans, Rice, Cheese, Sour Cream, Lettuce]]': 2,\n",
       " '[Fresh Tomato Salsa, [Sour Cream, Fajita Vegetables, Rice, Guacamole, Cheese]]': 2,\n",
       " '[Roasted Chili Corn Salsa, [Black Beans, Cheese, Lettuce]]': 3,\n",
       " '[Fresh Tomato Salsa, [Rice, Cheese, Sour Cream, Guacamole, Lettuce]]': 6,\n",
       " '[Fresh Tomato Salsa (Mild), [Pinto Beans, Rice, Fajita Veggies, Cheese, Sour Cream, Guacamole, Lettuce]]': 2,\n",
       " '[Fresh Tomato Salsa, [Sour Cream, Cheese, Rice]]': 1,\n",
       " '[Fresh Tomato Salsa, [Fajita Vegetables, Pinto Beans, Lettuce]]': 5,\n",
       " '[Tomatillo Green Chili Salsa, [Rice, Sour Cream, Cheese, Lettuce]]': 1,\n",
       " '[Roasted Chili Corn Salsa (Medium), [Rice, Fajita Veggies, Sour Cream, Guacamole, Lettuce]]': 1,\n",
       " '[Tomatillo-Red Chili Salsa (Hot), [Black Beans, Cheese, Sour Cream, Lettuce]]': 2,\n",
       " '[Tomatillo-Red Chili Salsa (Hot), [Pinto Beans, Black Beans, Fajita Veggies, Cheese, Sour Cream, Lettuce]]': 1,\n",
       " '[Roasted Chili Corn Salsa, [Rice, Pinto Beans, Cheese, Sour Cream, Lettuce]]': 10,\n",
       " '[Tomatillo Red Chili Salsa, [Fajita Vegetables, Rice, Black Beans, Cheese, Guacamole, Lettuce]]': 8,\n",
       " '[Tomatillo Green Chili Salsa, [Fajita Vegetables, Rice, Pinto Beans, Cheese, Sour Cream, Lettuce]]': 1,\n",
       " '[Fresh Tomato Salsa, [Fajita Vegetables, Cheese, Sour Cream, Lettuce]]': 3,\n",
       " '[[Tomatillo-Red Chili Salsa (Hot), Fresh Tomato Salsa (Mild)], [Pinto Beans, Cheese, Guacamole, Lettuce]]': 1,\n",
       " '[Roasted Chili Corn Salsa, [Rice, Guacamole]]': 1,\n",
       " '[Rice]': 1,\n",
       " '[Roasted Chili Corn Salsa (Medium), [Rice, Cheese, Sour Cream]]': 1,\n",
       " '[Tomatillo-Red Chili Salsa (Hot), [Rice, Cheese, Sour Cream, Lettuce]]': 11,\n",
       " '[Tomatillo Red Chili Salsa, [Rice, Fajita Vegetables, Pinto Beans, Sour Cream, Cheese]]': 1,\n",
       " '[Tomatillo Green Chili Salsa, [Rice, Pinto Beans, Sour Cream]]': 2,\n",
       " '[Fresh Tomato Salsa, [Rice, Black Beans, Cheese, Lettuce, Guacamole]]': 2,\n",
       " '[Tomatillo-Red Chili Salsa (Hot), [Rice, Cheese, Lettuce]]': 2,\n",
       " '[Fresh Tomato Salsa (Mild), [Pinto Beans, Rice, Fajita Veggies, Cheese, Sour Cream, Lettuce]]': 1,\n",
       " '[Roasted Chili Corn Salsa, [Rice, Fajita Vegetables, Black Beans, Cheese, Lettuce, Guacamole]]': 2,\n",
       " '[Tomatillo Green Chili Salsa, [Fajita Vegetables, Rice, Cheese, Sour Cream, Guacamole, Lettuce]]': 3,\n",
       " '[Tomatillo-Green Chili Salsa (Medium), [Black Beans, Rice, Fajita Veggies, Cheese, Sour Cream, Lettuce]]': 1,\n",
       " '[Fresh Tomato (Mild), [Lettuce, Guacamole, Pinto Beans, Rice, Sour Cream, Cheese]]': 1,\n",
       " '[Roasted Chili Corn Salsa, [Rice, Cheese, Lettuce, Guacamole]]': 7,\n",
       " '[Sprite]': 77,\n",
       " '[Tomatillo Green Chili Salsa]': 6,\n",
       " '[Tomatillo Green Chili Salsa, [Rice, Pinto Beans, Sour Cream, Cheese, Lettuce]]': 2,\n",
       " '[Tomatillo-Red Chili Salsa (Hot), [Pinto Beans, Rice, Cheese, Sour Cream, Lettuce]]': 3,\n",
       " '[Tomatillo-Green Chili Salsa (Medium), Black Beans]': 2,\n",
       " '[Fresh Tomato Salsa (Mild), [Pinto Beans, Cheese, Sour Cream, Lettuce]]': 2,\n",
       " '[Tomatillo Green Chili Salsa, [Rice, Black Beans, Cheese, Lettuce]]': 5,\n",
       " '[Tomatillo Green Chili Salsa, [Fajita Vegetables, Rice, Black Beans, Cheese, Guacamole, Lettuce]]': 1,\n",
       " '[Fresh Tomato Salsa, [Black Beans, Cheese, Guacamole]]': 3,\n",
       " '[Roasted Chili Corn Salsa (Medium), [Pinto Beans, Black Beans, Rice, Fajita Veggies, Cheese, Sour Cream, Lettuce]]': 1,\n",
       " '[Fresh Tomato Salsa (Mild), [Pinto Beans, Rice, Fajita Veggies, Sour Cream]]': 1,\n",
       " '[Fresh Tomato Salsa (Mild), [Black Beans, Rice, Fajita Veggies, Guacamole, Lettuce]]': 1,\n",
       " '[[Fresh Tomato Salsa (Mild), Tomatillo-Green Chili Salsa (Medium), Roasted Chili Corn Salsa (Medium), Tomatillo-Red Chili Salsa (Hot)], [Pinto Beans, Rice, Fajita Veggies, Cheese, Sour Cream, Lettuce]]': 1,\n",
       " '[Clementine]': 8,\n",
       " '[Roasted Chili Corn Salsa, [Rice, Pinto Beans, Sour Cream]]': 1,\n",
       " '[Fresh Tomato Salsa, [Rice, Black Beans, Cheese, Sour Cream]]': 33,\n",
       " '[Tomatillo Red Chili Salsa, [Rice, Black Beans, Sour Cream, Cheese, Lettuce, Guacamole]]': 4,\n",
       " '[Tomatillo Green Chili Salsa, [Black Beans, Cheese, Guacamole]]': 6,\n",
       " '[Fresh Tomato Salsa, [Rice, Lettuce]]': 3,\n",
       " '[Tomatillo Red Chili Salsa, [Rice, Cheese, Sour Cream]]': 7,\n",
       " '[Guacamole]': 1,\n",
       " '[Tomatillo-Red Chili Salsa (Hot), [Black Beans, Rice, Cheese, Sour Cream, Lettuce]]': 13,\n",
       " '[Fresh Tomato Salsa (Mild), [Black Beans, Rice, Cheese, Lettuce]]': 3,\n",
       " '[Fresh Tomato Salsa, [Pinto Beans, Sour Cream, Cheese]]': 1,\n",
       " '[[Roasted Chili Corn Salsa (Medium), Tomatillo-Green Chili Salsa (Medium)], [Rice, Black Beans, Cheese, Sour Cream]]': 1,\n",
       " '[Fresh Tomato Salsa, [Rice, Pinto Beans, Sour Cream, Cheese, Lettuce, Guacamole]]': 2,\n",
       " '[Tomatillo Green Chili Salsa, [Fajita Vegetables, Black Beans, Pinto Beans, Lettuce]]': 1,\n",
       " '[Roasted Chili Corn Salsa, [Rice, Fajita Vegetables, Sour Cream, Cheese, Lettuce, Guacamole]]': 1,\n",
       " '[Fresh Tomato Salsa, [Rice, Black Beans, Sour Cream, Cheese]]': 5,\n",
       " '[Fresh Tomato Salsa, [Rice, Cheese, Black Beans]]': 1,\n",
       " '[Fresh Tomato Salsa, [Rice, Fajita Vegetables, Black Beans, Cheese, Lettuce]]': 1,\n",
       " '[Fresh Tomato Salsa, [Sour Cream, Lettuce]]': 4,\n",
       " '[Fresh Tomato Salsa, [Rice, Black Beans]]': 4,\n",
       " '[[Fresh Tomato Salsa (Mild), Tomatillo-Green Chili Salsa (Medium), Tomatillo-Red Chili Salsa (Hot)], [Pinto Beans, Black Beans, Rice, Fajita Veggies, Cheese, Sour Cream, Lettuce]]': 1,\n",
       " '[Roasted Chili Corn Salsa (Medium), [Black Beans, Rice, Fajita Veggies, Cheese, Lettuce]]': 1,\n",
       " '[[Fresh Tomato Salsa (Mild), Roasted Chili Corn Salsa (Medium), Tomatillo-Red Chili Salsa (Hot)], [Black Beans, Rice, Sour Cream]]': 3,\n",
       " '[[Roasted Chili Corn Salsa (Medium), Tomatillo-Red Chili Salsa (Hot)], [Rice, Pinto Beans, Lettuce]]': 1,\n",
       " '[Fresh Tomato Salsa, Rice]': 16,\n",
       " '[Tomatillo-Green Chili Salsa (Medium), [Rice, Cheese, Sour Cream, Guacamole]]': 1,\n",
       " '[[Fresh Tomato Salsa (Mild), Tomatillo-Red Chili Salsa (Hot)], [Pinto Beans, Rice, Cheese, Sour Cream]]': 1,\n",
       " '[Fresh Tomato Salsa, [Rice, Black Beans, Sour Cream, Cheese, Lettuce]]': 3,\n",
       " '[Fresh Tomato (Mild), [Lettuce, Cheese]]': 1,\n",
       " '[Tomatillo Green Chili Salsa, [Pinto Beans, Black Beans]]': 1,\n",
       " '[Fresh Tomato Salsa, [Fajita Vegetables, Pinto Beans, Cheese, Guacamole]]': 1,\n",
       " '[Nestea]': 20,\n",
       " '[Tomatillo-Green Chili Salsa (Medium), [Pinto Beans, Rice, Fajita Veggies, Cheese, Sour Cream, Guacamole, Lettuce]]': 1,\n",
       " '[Tomatillo Red Chili Salsa, [Rice, Fajita Vegetables, Pinto Beans, Sour Cream, Lettuce]]': 1,\n",
       " '[Fresh Tomato (Mild), [Lettuce, Black Beans, Guacamole, Rice, Sour Cream, Cheese]]': 1,\n",
       " '[Tomatillo Green Chili Salsa, [Black Beans, Sour Cream, Cheese, Lettuce, Guacamole]]': 1,\n",
       " '[Roasted Chili Corn Salsa, [Rice, Black Beans, Cheese]]': 7,\n",
       " '[Roasted Chili Corn Salsa, [Rice, Black Beans, Guacamole]]': 4,\n",
       " '[[Fresh Tomato Salsa (Mild), Tomatillo-Green Chili Salsa (Medium), Roasted Chili Corn Salsa (Medium), Tomatillo-Red Chili Salsa (Hot)], [Black Beans, Rice, Fajita Veggies, Cheese, Sour Cream]]': 3,\n",
       " '[Tomatillo Green Chili Salsa, [Rice, Fajita Vegetables, Pinto Beans, Sour Cream, Cheese]]': 1,\n",
       " '[[Fresh Tomato Salsa (Mild), Tomatillo-Green Chili Salsa (Medium)], [Rice, Fajita Veggies, Cheese, Sour Cream, Lettuce]]': 2,\n",
       " '[Fresh Tomato Salsa, [Sour Cream, Cheese, Lettuce]]': 1,\n",
       " '[Tomatillo-Red Chili Salsa (Hot), [Pinto Beans, Black Beans, Rice, Fajita Veggies, Lettuce]]': 1,\n",
       " '[Roasted Chili Corn (Medium), [Lettuce, Black Beans, Cheese]]': 1,\n",
       " '[Roasted Chili Corn Salsa, [Fajita Vegetables, Rice, Lettuce]]': 1,\n",
       " '[Roasted Chili Corn Salsa, [Rice, Pinto Beans, Cheese, Sour Cream, Guacamole, Lettuce]]': 4,\n",
       " '[Adobo-Marinated and Grilled Chicken, [Sour Cream, Cheese, Cilantro-Lime Rice]]': 1,\n",
       " '[Fresh Tomato Salsa, [Fajita Vegetables, Rice, Black Beans, Cheese, Lettuce]]': 5,\n",
       " '[Fresh Tomato Salsa, [Fajita Vegetables, Black Beans, Guacamole]]': 1,\n",
       " '[Tomatillo-Green Chili Salsa (Medium), [Pinto Beans, Black Beans, Rice, Fajita Veggies, Sour Cream, Lettuce]]': 1,\n",
       " '[Roasted Chili Corn Salsa, [Rice, Black Beans, Cheese, Sour Cream, Lettuce]]': 21,\n",
       " '[Roasted Chili Corn Salsa, Cheese]': 1,\n",
       " '[Roasted Chili Corn Salsa, [Fajita Vegetables, Rice, Black Beans, Sour Cream, Guacamole, Lettuce]]': 1,\n",
       " '[Fresh Tomato Salsa (Mild), [Rice, Black Beans, Fajita Veggies, Cheese, Guacamole, Lettuce]]': 3,\n",
       " '[Fresh Tomato Salsa, [Pinto Beans, Cheese, Sour Cream, Guacamole, Fajita Vegetables, Rice, Black Beans, Lettuce]]': 1,\n",
       " '[Roasted Chili Corn Salsa, [Rice, Cheese, Sour Cream, Lettuce]]': 12,\n",
       " '[Tomatillo Green Chili Salsa, [Fajita Vegetables, Rice, Black Beans, Guacamole, Lettuce]]': 1,\n",
       " '[Tomatillo Red Chili Salsa, [Rice, Fajita Vegetables, Black Beans, Lettuce]]': 1,\n",
       " '[Tomatillo Green Chili Salsa, [Rice, Pinto Beans, Cheese, Guacamole]]': 2,\n",
       " '[Roasted Chili Corn Salsa (Medium), [Rice, Black Beans, Fajita Veggies]]': 1,\n",
       " '[Fresh Tomato Salsa, [Black Beans, Cheese, Sour Cream, Lettuce]]': 3,\n",
       " '[[Fresh Tomato Salsa (Mild), Roasted Chili Corn Salsa (Medium)], [Rice, Fajita Veggies, Lettuce]]': 2,\n",
       " '[Fresh Tomato Salsa, [Fajita Vegetables, Sour Cream, Cheese, Lettuce]]': 2,\n",
       " '[Roasted Chili Corn Salsa, [Lettuce, Black Beans, Cheese]]': 1,\n",
       " '[Roasted Chili Corn Salsa (Medium), [Black Beans, Rice]]': 1,\n",
       " '[Tomatillo-Green Chili Salsa (Medium), [Fajita Veggies, Cheese, Lettuce]]': 1,\n",
       " '[Fresh Tomato Salsa, [Fajita Vegetables, Rice, Black Beans, Cheese]]': 7,\n",
       " '[Tomatillo Green Chili Salsa, [Fajita Vegetables, Rice, Black Beans, Pinto Beans, Cheese, Sour Cream, Guacamole, Lettuce]]': 1,\n",
       " '[Roasted Chili Corn (Medium), [Sour Cream, Cheese]]': 1,\n",
       " '[Fresh Tomato Salsa (Mild), [Rice, Pinto Beans, Cheese, Sour Cream]]': 2,\n",
       " '[Roasted Chili Corn Salsa, [Fajita Vegetables, Rice, Black Beans, Guacamole, Lettuce]]': 2,\n",
       " '[Roasted Chili Corn Salsa, [Fajita Vegetables, Rice, Black Beans, Cheese, Lettuce]]': 5,\n",
       " '[Fresh Tomato Salsa, [Black Beans, Sour Cream, Cheese, Lettuce]]': 1,\n",
       " '[Roasted Chili Corn Salsa, [Cheese, Lettuce]]': 7,\n",
       " '[[Tomatillo-Green Chili Salsa (Medium), Fresh Tomato Salsa (Mild)], [Cheese, Sour Cream, Guacamole]]': 1,\n",
       " '[[Fresh Tomato Salsa (Mild), Roasted Chili Corn Salsa (Medium)], [Pinto Beans, Black Beans, Rice, Fajita Veggies, Cheese, Lettuce]]': 1,\n",
       " '[Tomatillo-Red Chili Salsa (Hot), [Pinto Beans, Black Beans, Rice, Fajita Veggies, Cheese]]': 1,\n",
       " '[Roasted Chili Corn Salsa, [Fajita Vegetables, Rice, Cheese, Sour Cream]]': 2,\n",
       " '[[Lettuce, Rice]]': 1,\n",
       " '[Roasted Chili Corn Salsa (Medium), [Rice, Pinto Beans, Cheese, Lettuce]]': 1,\n",
       " '[Tomatillo Green Chili Salsa, [Rice, Fajita Vegetables, Black Beans, Guacamole]]': 1,\n",
       " '[Fresh Tomato Salsa (Mild), [Pinto Beans, Black Beans, Rice, Fajita Veggies, Cheese, Sour Cream, Guacamole, Lettuce]]': 1,\n",
       " '[Fresh Tomato Salsa, [Rice, Sour Cream, Lettuce]]': 1,\n",
       " '[Tomatillo-Red Chili Salsa (Hot), [Cheese, Sour Cream, Fajita Veggies, Pinto Beans, Rice]]': 1,\n",
       " '[Roasted Chili Corn Salsa, [Cheese, Lettuce, Fajita Vegetables, Rice]]': 1,\n",
       " '[Tomatillo Green Chili Salsa, [Rice, Pinto Beans, Cheese, Sour Cream]]': 1,\n",
       " '[Fresh Tomato Salsa, [Sour Cream, Cheese, Guacamole]]': 3,\n",
       " '[[Roasted Chili Corn Salsa (Medium), Fresh Tomato Salsa (Mild)], [Lettuce, Black Beans, Sour Cream, Cheese, Rice, Fajita Veggies, Pinto Beans]]': 1,\n",
       " '[Roasted Chili Corn Salsa (Medium), Rice]': 1,\n",
       " '[Tomatillo Green Chili Salsa, [Rice, Cheese, Guacamole]]': 3,\n",
       " '[Fresh Tomato (Mild), [Guacamole, Lettuce, Rice, Sour Cream, Cheese]]': 1,\n",
       " '[Dr. Pepper]': 18,\n",
       " '[Tomatillo Green Chili Salsa, [Rice, Black Beans, Pinto Beans, Guacamole, Lettuce]]': 1,\n",
       " '[Brown Rice, Adobo-Marinated and Grilled Chicken, Vegetarian Black Beans]': 1,\n",
       " '[Tomatillo Green Chili Salsa, [Rice, Pinto Beans, Cheese, Lettuce]]': 7,\n",
       " '[Roasted Chili Corn Salsa, [Rice, Black Beans, Sour Cream, Lettuce, Guacamole]]': 1,\n",
       " '[[Roasted Chili Corn Salsa (Medium), Tomatillo-Red Chili Salsa (Hot), Fresh Tomato Salsa (Mild), Tomatillo-Green Chili Salsa (Medium)], [Rice, Black Beans, Fajita Veggies, Cheese, Sour Cream]]': 3,\n",
       " '[Roasted Chili Corn Salsa, [Fajita Vegetables, Rice, Cheese, Sour Cream, Guacamole]]': 1,\n",
       " '[Fresh Tomato Salsa, [Fajita Vegetables, Rice, Black Beans, Pinto Beans, Guacamole, Lettuce]]': 2,\n",
       " '[Roasted Chili Corn Salsa, [Pinto Beans, Rice, Guacamole, Sour Cream, Cheese]]': 1,\n",
       " '[[Roasted Chili Corn Salsa (Medium), Tomatillo-Red Chili Salsa (Hot)], [Cheese, Sour Cream, Lettuce]]': 1,\n",
       " '[Fresh Tomato Salsa (Mild), [Pinto Beans, Black Beans, Rice, Fajita Veggies, Lettuce]]': 1,\n",
       " '[Fresh Tomato Salsa (Mild), [Pinto Beans, Rice, Sour Cream, Cheese]]': 2,\n",
       " '[Tomatillo Green Chili Salsa, [Rice, Black Beans, Sour Cream, Cheese]]': 4,\n",
       " '[Roasted Chili Corn Salsa, [Rice, Black Beans, Sour Cream, Cheese]]': 2,\n",
       " '[Tomatillo-Red Chili Salsa (Hot), [Rice, Fajita Veggies, Cheese]]': 2,\n",
       " '[Fresh Tomato Salsa (Mild), [Cheese, Sour Cream, Guacamole, Lettuce]]': 1,\n",
       " '[Roasted Chili Corn Salsa (Medium), [Cheese, Sour Cream]]': 1,\n",
       " '[Tomatillo Red Chili Salsa, [Rice, Fajita Vegetables, Black Beans, Cheese, Lettuce, Guacamole]]': 2,\n",
       " '[Fresh Tomato Salsa (Mild), [Black Beans, Rice, Fajita Veggies, Cheese, Sour Cream, Lettuce]]': 9,\n",
       " '[Fresh Tomato (Mild), [Guacamole, Lettuce, Rice, Fajita Veggies, Cheese]]': 1,\n",
       " '[Fresh Tomato Salsa, [Cheese, Sour Cream, Lettuce]]': 9,\n",
       " '[Tomatillo Red Chili Salsa, [Fajita Vegetables, Black Beans, Cheese, Sour Cream, Guacamole]]': 1,\n",
       " '[Fresh Tomato Salsa, [Fajita Vegetables, Pinto Beans, Guacamole, Lettuce]]': 4,\n",
       " '[Roasted Chili Corn Salsa, [Rice, Fajita Vegetables, Lettuce, Pinto Beans, Black Beans, Guacamole, Cheese]]': 1,\n",
       " '[[Fresh Tomato Salsa (Mild), Roasted Chili Corn Salsa (Medium)], [Pinto Beans, Rice, Fajita Veggies, Cheese, Sour Cream]]': 1,\n",
       " '[Blackberry]': 8,\n",
       " '[Fresh Tomato Salsa (Mild), [Pinto Beans, Rice, Sour Cream, Guacamole]]': 1,\n",
       " '[[Tomatillo-Green Chili Salsa (Medium), Roasted Chili Corn Salsa (Medium)], [Black Beans, Rice, Sour Cream, Lettuce]]': 1,\n",
       " '[Roasted Chili Corn Salsa (Medium), [Black Beans, Fajita Veggies, Cheese, Sour Cream, Guacamole]]': 1,\n",
       " '[Roasted Chili Corn Salsa, [Rice, Black Beans, Lettuce]]': 3,\n",
       " '[[Roasted Chili Corn Salsa (Medium), Tomatillo-Red Chili Salsa (Hot)], [Black Beans, Rice, Cheese, Sour Cream, Lettuce]]': 6,\n",
       " '[Fresh Tomato Salsa, [Fajita Vegetables, Rice, Cheese]]': 1,\n",
       " '[Fresh Tomato Salsa, [Rice, Pinto Beans, Cheese, Sour Cream, Guacamole, Lettuce]]': 8,\n",
       " '[[Fresh Tomato Salsa (Mild), Roasted Chili Corn Salsa (Medium)], [Pinto Beans, Black Beans, Rice, Fajita Veggies, Cheese, Sour Cream, Lettuce]]': 1,\n",
       " '[Roasted Chili Corn Salsa, [Rice, Sour Cream, Cheese, Lettuce, Guacamole]]': 1,\n",
       " '[Roasted Chili Corn Salsa, [Rice, Cheese]]': 10,\n",
       " '[Fresh Tomato Salsa, [Rice, Black Beans, Pinto Beans, Cheese]]': 1,\n",
       " '[Fresh Tomato (Mild), [Lettuce, Black Beans, Rice, Cheese]]': 1,\n",
       " '[Roasted Chili Corn Salsa (Medium), [Black Beans, Lettuce]]': 1,\n",
       " '[Fresh Tomato Salsa, [Fajita Vegetables, Rice, Black Beans, Sour Cream, Guacamole, Lettuce]]': 5,\n",
       " '[[Tomatillo-Green Chili Salsa (Medium), Roasted Chili Corn Salsa (Medium), Tomatillo-Red Chili Salsa (Hot)], [Black Beans, Rice, Cheese, Sour Cream, Guacamole, Lettuce]]': 1,\n",
       " '[Roasted Chili Corn Salsa, [Fajita Vegetables, Rice, Sour Cream, Guacamole, Lettuce]]': 3,\n",
       " '[Roasted Chili Corn Salsa, [Cheese, Rice, Guacamole]]': 1,\n",
       " '[Tomatillo Green Chili Salsa, Guacamole]': 2,\n",
       " '[Tomatillo Red Chili Salsa, [Cheese, Sour Cream]]': 3,\n",
       " '[Fresh Tomato Salsa, [Fajita Vegetables, Black Beans, Cheese, Sour Cream, Guacamole]]': 2,\n",
       " '[Fresh Tomato Salsa, [Rice, Fajita Vegetables, Black Beans, Sour Cream, Cheese, Lettuce]]': 3,\n",
       " '[Roasted Chili Corn Salsa, [Black Beans, Cheese, Sour Cream, Lettuce]]': 2,\n",
       " '[Tomatillo Red Chili Salsa, [Rice, Cheese, Guacamole]]': 1,\n",
       " '[Fresh Tomato Salsa, [Fajita Vegetables, Cheese, Sour Cream, Guacamole]]': 2,\n",
       " '[Tomatillo Red Chili Salsa, [Fajita Vegetables, Rice, Black Beans, Cheese, Sour Cream, Lettuce]]': 4,\n",
       " '[Tomatillo Red Chili Salsa, [Fajita Vegetables, Rice, Black Beans, Cheese, Lettuce]]': 1,\n",
       " '[[Fresh Tomato Salsa (Mild), Tomatillo-Green Chili Salsa (Medium), Roasted Chili Corn Salsa (Medium)], [Pinto Beans, Rice, Fajita Veggies, Cheese, Lettuce]]': 1,\n",
       " '[Roasted Chili Corn Salsa (Medium), [Sour Cream, Cheese, Black Beans, Rice]]': 1,\n",
       " '[Fresh Tomato Salsa, [Rice, Lettuce, Guacamole, Fajita Vegetables, Cheese, Sour Cream, Black Beans]]': 1,\n",
       " '[[Fresh Tomato Salsa (Mild), Roasted Chili Corn Salsa (Medium)], [Cheese, Sour Cream, Lettuce]]': 1,\n",
       " '[Fresh Tomato Salsa, [Sour Cream, Cheese, Rice, Black Beans]]': 1,\n",
       " '[Tomatillo-Red Chili Salsa (Hot), [Pinto Beans, Cheese, Sour Cream, Rice, Fajita Veggies, Guacamole]]': 1,\n",
       " '[Tomatillo Red Chili Salsa, [Rice, Cheese, Sour Cream, Guacamole]]': 1,\n",
       " '[Tomatillo Green Chili Salsa, Cheese]': 1,\n",
       " '[Tomatillo Green Chili Salsa, [Black Beans, Cheese, Guacamole, Lettuce]]': 1,\n",
       " '[Tomatillo Green Chili Salsa, [Sour Cream, Cheese, Guacamole]]': 4,\n",
       " '[Tomatillo Green Chili Salsa, [Rice, Fajita Vegetables, Pinto Beans, Sour Cream, Cheese, Lettuce, Guacamole]]': 2,\n",
       " '[Tomatillo Red Chili Salsa, [Fajita Vegetables, Rice, Black Beans, Sour Cream, Guacamole]]': 2,\n",
       " '[Tomatillo-Green Chili Salsa (Medium), Pinto Beans]': 1,\n",
       " '[Roasted Chili Corn Salsa (Medium), [Rice, Cheese, Lettuce]]': 5,\n",
       " '[Diet Dr. Pepper]': 13,\n",
       " '[Tomatillo Red Chili Salsa, [Fajita Vegetables, Guacamole, Lettuce]]': 1,\n",
       " '[Roasted Chili Corn Salsa (Medium), [Pinto Beans, Black Beans, Rice, Cheese, Sour Cream, Guacamole]]': 1,\n",
       " '[Fresh Tomato Salsa, [Fajita Vegetables, Rice, Lettuce]]': 10,\n",
       " '[Tomatillo-Red Chili Salsa (Hot), [Rice, Cheese, Sour Cream]]': 3,\n",
       " '[Tomatillo-Red Chili Salsa (Hot), [Cheese, Lettuce]]': 1,\n",
       " '[Roasted Chili Corn Salsa (Medium), [Pinto Beans, Rice, Fajita Veggies, Cheese, Sour Cream, Guacamole, Lettuce]]': 1,\n",
       " '[Fresh Tomato Salsa (Mild), [Rice, Black Beans, Cheese, Sour Cream, Guacamole, Lettuce]]': 1,\n",
       " '[Tomatillo Green Chili Salsa, [Fajita Vegetables, Rice, Black Beans, Cheese, Sour Cream, Guacamole, Lettuce]]': 3,\n",
       " '[Fresh Tomato (Mild), [Lettuce, Guacamole, Rice, Cheese]]': 3,\n",
       " '[Tomatillo Green Chili Salsa, [Rice, Black Beans, Lettuce]]': 1,\n",
       " '[Tomatillo-Red Chili Salsa (Hot), [Pinto Beans, Cheese, Sour Cream, Lettuce]]': 4,\n",
       " '[Tomatillo Red Chili Salsa, [Rice, Black Beans, Cheese, Sour Cream]]': 7,\n",
       " '[Tomatillo Red Chili Salsa, [Rice, Pinto Beans, Cheese]]': 6,\n",
       " '[Roasted Chili Corn Salsa, [Rice, Black Beans]]': 3,\n",
       " '[Fresh Tomato Salsa, [Fajita Vegetables, Black Beans, Lettuce]]': 1,\n",
       " '[Roasted Chili Corn Salsa (Medium), [Rice, Cheese, Sour Cream, Lettuce]]': 3,\n",
       " '[Tomatillo Red Chili Salsa, [Fajita Vegetables, Black Beans, Cheese, Lettuce]]': 1,\n",
       " '[White Rice]': 2,\n",
       " '[Roasted Chili Corn Salsa (Medium), [Rice, Fajita Veggies, Cheese, Sour Cream, Lettuce]]': 14,\n",
       " '[Tomatillo-Red Chili Salsa (Hot), [Cheese, Sour Cream, Lettuce]]': 3,\n",
       " '[Fresh Tomato Salsa, [Fajita Vegetables, Rice, Sour Cream]]': 1,\n",
       " '[Fresh Tomato Salsa, [Rice, Fajita Vegetables, Sour Cream, Cheese, Guacamole]]': 7,\n",
       " '[Tomatillo Green Chili Salsa, [Fajita Vegetables, Rice, Black Beans, Cheese, Sour Cream, Lettuce]]': 4,\n",
       " '[Tomatillo Green Chili Salsa, [Fajita Vegetables, Rice, Cheese, Sour Cream, Guacamole]]': 1,\n",
       " '[Fresh Tomato Salsa, [Fajita Vegetables, Rice, Black Beans, Pinto Beans, Cheese, Sour Cream, Guacamole]]': 2,\n",
       " '[Tomatillo Red Chili Salsa, [Rice, Sour Cream, Cheese, Guacamole]]': 2,\n",
       " '[Fresh Tomato Salsa, [Rice, Cheese, Guacamole, Lettuce]]': 3,\n",
       " '[Tomatillo Green Chili Salsa, [Rice, Black Beans, Pinto Beans, Cheese, Sour Cream, Guacamole, Lettuce]]': 1,\n",
       " '[[Fresh Tomato Salsa (Mild), Roasted Chili Corn Salsa (Medium), Tomatillo-Red Chili Salsa (Hot)], [Black Beans, Rice, Fajita Veggies, Cheese, Sour Cream, Lettuce]]': 1,\n",
       " '[Tomatillo-Green Chili Salsa (Medium), [Black Beans, Rice, Cheese, Sour Cream, Guacamole]]': 1,\n",
       " '[[Roasted Chili Corn Salsa (Medium), Tomatillo-Red Chili Salsa (Hot)], [Black Beans, Rice, Fajita Veggies, Cheese, Sour Cream, Lettuce]]': 1,\n",
       " '[Fresh Tomato Salsa (Mild), [Black Beans, Rice, Fajita Veggies, Lettuce, Cheese, Sour Cream]]': 1,\n",
       " '[Fresh Tomato Salsa, [Fajita Vegetables, Rice, Black Beans, Pinto Beans, Cheese, Sour Cream, Guacamole, Lettuce]]': 9,\n",
       " '[Tomatillo Red Chili Salsa, [Rice, Black Beans, Pinto Beans, Cheese, Sour Cream, Guacamole, Lettuce]]': 1,\n",
       " '[Roasted Chili Corn Salsa, [Fajita Vegetables, Rice, Black Beans, Pinto Beans, Sour Cream, Guacamole, Lettuce]]': 1,\n",
       " '[Tomatillo Green Chili Salsa, [Cheese, Sour Cream, Guacamole]]': 2,\n",
       " '[Tomatillo Red Chili Salsa, [Rice, Cheese, Guacamole, Lettuce]]': 1,\n",
       " '[Roasted Chili Corn Salsa, [Rice, Cheese, Guacamole]]': 4,\n",
       " '[Fresh Tomato Salsa, [Lettuce, Guacamole, Rice, Cheese, Fajita Vegetables, Sour Cream]]': 1,\n",
       " '[Roasted Chili Corn Salsa (Medium), [Black Beans, Rice, Cheese, Sour Cream]]': 6,\n",
       " '[Fresh Tomato Salsa, [Fajita Vegetables, Black Beans, Cheese, Sour Cream, Guacamole, Lettuce]]': 5,\n",
       " '[Tomatillo Green Chili Salsa, [Fajita Vegetables, Black Beans, Cheese, Guacamole, Lettuce]]': 1,\n",
       " '[Fresh Tomato Salsa, [Cheese, Black Beans, Rice]]': 2,\n",
       " '[Tomatillo Green Chili Salsa, [Fajita Vegetables, Cheese, Sour Cream, Lettuce]]': 1,\n",
       " '[[Black Beans, Rice, Cheese]]': 1,\n",
       " '[Roasted Chili Corn Salsa, [Rice, Pinto Beans, Cheese, Sour Cream]]': 4,\n",
       " '[Roasted Chili Corn Salsa (Medium), [Black Beans, Rice, Fajita Veggies, Cheese, Sour Cream, Lettuce]]': 3,\n",
       " '[[Lettuce, Fajita Veggies]]': 1,\n",
       " '[Roasted Chili Corn Salsa (Medium), [Rice, Fajita Veggies, Cheese]]': 4,\n",
       " '[Tomatillo Red Chili Salsa, [Fajita Vegetables, Cheese, Guacamole, Lettuce]]': 1,\n",
       " '[Roasted Chili Corn Salsa, [Rice, Pinto Beans, Guacamole, Lettuce]]': 1,\n",
       " '[Tomatillo Red Chili Salsa, [Rice, Fajita Vegetables, Black Beans, Cheese, Lettuce]]': 1,\n",
       " '[White Rice, Adobo-Marinated and Grilled Steak, [Salsa, Cheese]]': 1,\n",
       " '[Tomatillo Green Chili Salsa, [Black Beans, Sour Cream, Cheese, Guacamole]]': 1,\n",
       " '[Tomatillo Red Chili (Hot), [Lettuce, Rice, Sour Cream, Cheese]]': 1,\n",
       " '[Fresh Tomato Salsa, [Pinto Beans, Cheese, Guacamole, Lettuce]]': 1,\n",
       " '[Tomatillo-Green Chili Salsa (Medium), [Pinto Beans, Cheese, Sour Cream, Lettuce]]': 1,\n",
       " '[Diet Coke]': 134,\n",
       " '[[Tomatillo-Green Chili Salsa (Medium), Roasted Chili Corn Salsa (Medium)], [Black Beans, Rice, Cheese]]': 1,\n",
       " '[Fresh Tomato Salsa, [Fajita Vegetables, Rice, Sour Cream, Lettuce]]': 7,\n",
       " '[Tomatillo Red Chili Salsa, [Rice, Cheese, Lettuce]]': 20,\n",
       " '[[Roasted Chili Corn Salsa (Medium), Tomatillo-Red Chili Salsa (Hot)], [Black Beans, Rice, Cheese, Sour Cream]]': 1,\n",
       " '[Roasted Chili Corn Salsa, [Rice, Fajita Vegetables, Cheese]]': 1,\n",
       " '[Roasted Chili Corn Salsa, [Fajita Vegetables, Rice, Pinto Beans, Cheese, Sour Cream, Lettuce]]': 9,\n",
       " '[Fresh Tomato Salsa, [Black Beans, Pinto Beans, Cheese]]': 1,\n",
       " '[Tomatillo-Red Chili Salsa (Hot), [Rice, Fajita Veggies, Pinto Beans, Sour Cream, Cheese, Guacamole]]': 1,\n",
       " '[Fresh Tomato Salsa, Cheese]': 5,\n",
       " '[Roasted Chili Corn Salsa, [Rice, Black Beans, Pinto Beans, Cheese, Sour Cream, Lettuce]]': 2,\n",
       " '[Tomatillo Green Chili Salsa, [Rice, Pinto Beans, Sour Cream, Lettuce]]': 12,\n",
       " '[Roasted Chili Corn Salsa, [Fajita Vegetables, Black Beans, Guacamole, Lettuce]]': 1,\n",
       " '[[Fresh Tomato Salsa (Mild), Roasted Chili Corn Salsa (Medium)], [Black Beans, Rice, Cheese, Sour Cream, Lettuce]]': 5,\n",
       " '[Roasted Chili Corn Salsa, [Fajita Vegetables, Rice, Pinto Beans, Cheese, Guacamole, Lettuce]]': 1,\n",
       " '[Fresh Tomato Salsa, [Black Beans, Cheese, Sour Cream]]': 4,\n",
       " '[Fresh Tomato Salsa (Mild), [Cheese, Lettuce]]': 4,\n",
       " '[Roasted Chili Corn Salsa, [Pinto Beans, Rice, Cheese, Sour Cream, Guacamole]]': 1,\n",
       " '[Tomatillo-Red Chili Salsa (Hot), [Lettuce, Sour Cream, Cheese, Fajita Veggies, Rice, Black Beans]]': 1,\n",
       " '[Fresh Tomato Salsa, [Sour Cream, Cheese]]': 2,\n",
       " '[Fresh Tomato Salsa, [Rice, Black Beans, Cheese, Sour Cream, Guacamole]]': 22,\n",
       " '[Braised Carnitas, Pinto Beans, [Sour Cream, Cheese, Cilantro-Lime Rice]]': 1,\n",
       " '[Tomatillo Red Chili Salsa, [Fajita Vegetables, Black Beans, Sour Cream, Cheese, Lettuce]]': 1,\n",
       " '[[Fresh Tomato Salsa (Mild), Tomatillo-Green Chili Salsa (Medium), Tomatillo-Red Chili Salsa (Hot)], [Rice, Cheese, Sour Cream, Lettuce]]': 1,\n",
       " '[Tomatillo Green Chili Salsa, [Rice, Pinto Beans, Cheese, Sour Cream, Guacamole]]': 3,\n",
       " '[Fresh Tomato Salsa]': 11,\n",
       " '[Roasted Chili Corn Salsa, [Fajita Vegetables, Rice, Guacamole]]': 1,\n",
       " '[Tomatillo Red Chili Salsa, [Rice, Pinto Beans, Cheese, Sour Cream]]': 8,\n",
       " '[[Tomatillo-Green Chili Salsa (Medium), Tomatillo-Red Chili Salsa (Hot)], [Black Beans, Rice, Fajita Veggies, Sour Cream]]': 1,\n",
       " '[Roasted Chili Corn Salsa, [Fajita Vegetables, Cheese]]': 2,\n",
       " '[Roasted Chili Corn Salsa, [Black Beans, Sour Cream, Lettuce]]': 1,\n",
       " '[Tomatillo-Green Chili Salsa (Medium), [Cheese, Lettuce]]': 2,\n",
       " '[Tomatillo-Green Chili Salsa (Medium), [Black Beans, Rice, Cheese, Sour Cream, Guacamole, Lettuce]]': 2,\n",
       " '[Tomatillo Red Chili Salsa, [Rice, Black Beans, Lettuce]]': 2,\n",
       " '[[Roasted Chili Corn Salsa (Medium), Fresh Tomato Salsa (Mild)], [Rice, Fajita Veggies]]': 5,\n",
       " '[Fresh Tomato Salsa, [Fajita Vegetables, Pinto Beans, Guacamole]]': 1,\n",
       " '[Tomatillo Green Chili Salsa, [Rice, Black Beans, Cheese, Guacamole]]': 3,\n",
       " '[Tomatillo Green Chili Salsa, [Fajita Vegetables, Rice, Black Beans, Cheese, Lettuce]]': 4,\n",
       " '[Fresh Tomato Salsa, [Black Beans, Pinto Beans, Cheese, Sour Cream, Lettuce]]': 1,\n",
       " '[Fresh Tomato Salsa, [Rice, Sour Cream, Cheese]]': 2,\n",
       " '[Fresh Tomato Salsa, [Rice, Sour Cream, Lettuce, Guacamole]]': 1,\n",
       " '[Tomatillo Green Chili (Medium), [Lettuce, Black Beans, Rice, Sour Cream, Cheese]]': 1,\n",
       " '[Tomatillo-Red Chili Salsa (Hot), [Fajita Veggies, Cheese, Sour Cream, Guacamole]]': 1,\n",
       " '[Fresh Tomato Salsa, [Black Beans, Cheese, Sour Cream, Guacamole, Lettuce]]': 2,\n",
       " '[Fresh Tomato Salsa, [Fajita Vegetables, Rice, Black Beans, Cheese, Sour Cream]]': 10,\n",
       " '[Tomatillo-Red Chili Salsa (Hot), [Black Beans, Rice]]': 1,\n",
       " '[Fresh Tomato Salsa, [Fajita Vegetables, Rice, Black Beans, Sour Cream, Lettuce]]': 3,\n",
       " '[Fresh Tomato Salsa (Mild), [Pinto Beans, Rice, Guacamole]]': 1,\n",
       " '[Roasted Chili Corn Salsa, [Fajita Vegetables, Rice, Black Beans, Pinto Beans, Cheese, Guacamole, Lettuce]]': 1,\n",
       " '[Fresh Tomato Salsa, [Pinto Beans, Cheese, Sour Cream, Lettuce]]': 1,\n",
       " '[[Tomatillo-Green Chili Salsa (Medium), Roasted Chili Corn Salsa (Medium)], [Pinto Beans, Black Beans, Rice, Fajita Veggies, Cheese, Sour Cream, Guacamole, Lettuce]]': 1,\n",
       " '[Tomatillo Red Chili Salsa, [Rice, Black Beans, Sour Cream, Cheese, Lettuce]]': 10,\n",
       " '[Fresh Tomato Salsa (Mild), [Rice, Fajita Veggies, Cheese, Lettuce]]': 3,\n",
       " '[Tomatillo Red Chili Salsa, [Fajita Vegetables, Rice, Black Beans, Pinto Beans, Cheese, Sour Cream, Lettuce]]': 1,\n",
       " '[Fresh Tomato Salsa, [Rice, Cheese]]': 8,\n",
       " '[Tomatillo Green Chili Salsa, [Rice, Black Beans, Cheese, Guacamole, Lettuce]]': 1,\n",
       " '[Tomatillo Green Chili Salsa, [Cheese, Lettuce, Rice, Pinto Beans]]': 1,\n",
       " '[Tomatillo Red Chili Salsa, [Rice, Fajita Vegetables, Cheese, Lettuce, Guacamole]]': 3,\n",
       " '[Fresh Tomato Salsa, [Fajita Vegetables, Rice, Sour Cream, Guacamole, Lettuce]]': 2,\n",
       " '[Fresh Tomato Salsa, [Fajita Vegetables, Rice, Pinto Beans, Cheese, Sour Cream, Lettuce]]': 6,\n",
       " '[[Fresh Tomato Salsa (Mild), Roasted Chili Corn Salsa (Medium)], [Black Beans, Guacamole]]': 1,\n",
       " '[Tomatillo Green Chili Salsa, [Rice, Black Beans, Cheese, Sour Cream, Guacamole]]': 2,\n",
       " '[Tomatillo-Green Chili Salsa (Medium), [Rice, Pinto Beans, Cheese, Sour Cream, Lettuce]]': 1,\n",
       " '[Fresh Tomato Salsa, [Fajita Vegetables, Black Beans, Pinto Beans, Guacamole, Lettuce]]': 1,\n",
       " '[Roasted Chili Corn Salsa, [Fajita Vegetables, Rice, Black Beans, Cheese, Sour Cream]]': 5,\n",
       " '[Fresh Tomato Salsa (Mild), [Black Beans, Rice, Guacamole, Lettuce]]': 3,\n",
       " '[Fresh Tomato Salsa, [Black Beans, Cheese, Guacamole, Lettuce]]': 4,\n",
       " '[Roasted Chili Corn Salsa]': 10,\n",
       " '[Fresh Tomato Salsa, [Fajita Vegetables, Rice]]': 22,\n",
       " '[Tomatillo Green Chili Salsa, [Rice, Fajita Vegetables, Black Beans, Sour Cream, Cheese, Lettuce]]': 2,\n",
       " '[[Roasted Chili Corn Salsa (Medium), Fresh Tomato Salsa (Mild)], [Rice, Black Beans, Fajita Veggies, Cheese, Sour Cream, Guacamole, Lettuce]]': 1,\n",
       " '[White Rice, Adobo-Marinated and Grilled Steak, Pinto Beans, [Sour Cream, Salsa, Cheese, Cilantro-Lime Rice]]': 1,\n",
       " '[Tomatillo-Red Chili Salsa (Hot), [Pinto Beans, Rice, Cheese, Guacamole]]': 1,\n",
       " '[Fresh Tomato Salsa, [Rice, Sour Cream, Cheese, Lettuce]]': 3,\n",
       " '[Tomatillo-Green Chili Salsa (Medium), [Rice, Cheese, Sour Cream]]': 1,\n",
       " '[[Fresh Tomato Salsa (Mild), Roasted Chili Corn Salsa (Medium), Tomatillo-Red Chili Salsa (Hot)], [Pinto Beans, Rice, Fajita Veggies, Cheese, Sour Cream, Lettuce]]': 2,\n",
       " '[Tomatillo Green Chili Salsa, [Black Beans, Cheese, Sour Cream, Guacamole, Lettuce]]': 1,\n",
       " '[Tomatillo-Red Chili Salsa (Hot), [Rice, Pinto Beans, Fajita Veggies, Cheese, Sour Cream, Guacamole]]': 1,\n",
       " '[Tomatillo Red Chili Salsa, [Fajita Vegetables, Rice, Black Beans, Cheese, Guacamole]]': 3,\n",
       " '[Fresh Tomato Salsa, [Pinto Beans, Sour Cream, Cheese, Lettuce]]': 1,\n",
       " '[Fresh Tomato Salsa, [Cheese, Guacamole]]': 1,\n",
       " '[Roasted Chili Corn Salsa, [Pinto Beans, Cheese, Sour Cream]]': 1,\n",
       " '[Fresh Tomato (Mild), [Lettuce, Fajita Veggies, Black Beans, Rice, Sour Cream, Cheese]]': 1,\n",
       " '[[Fresh Tomato Salsa (Mild), Tomatillo-Red Chili Salsa (Hot)], [Pinto Beans, Rice, Cheese, Sour Cream, Lettuce]]': 1,\n",
       " '[Roasted Chili Corn Salsa, [Fajita Vegetables, Rice, Sour Cream, Guacamole]]': 2,\n",
       " '[Fresh Tomato (Mild), [Lettuce, Rice, Cheese]]': 1,\n",
       " '[[Tomatillo-Green Chili Salsa (Medium), Roasted Chili Corn Salsa (Medium), Tomatillo-Red Chili Salsa (Hot)], [Black Beans, Rice, Fajita Veggies, Guacamole, Lettuce]]': 1,\n",
       " '[Tomatillo Green Chili Salsa, [Rice, Fajita Vegetables, Sour Cream]]': 1,\n",
       " '[[Fresh Tomato Salsa (Mild), Roasted Chili Corn Salsa (Medium)], [Rice, Fajita Veggies, Sour Cream]]': 1,\n",
       " '[Roasted Chili Corn Salsa (Medium), [Pinto Beans, Black Beans, Rice, Fajita Veggies, Lettuce]]': 1,\n",
       " '[[Fresh Tomato Salsa (Mild), Roasted Chili Corn Salsa (Medium)], [Black Beans, Rice, Fajita Veggies, Cheese, Sour Cream, Lettuce]]': 5,\n",
       " '[Fresh Tomato Salsa, [Lettuce, Cheese, Pinto Beans, Rice]]': 1,\n",
       " '[Fresh Tomato Salsa, [Fajita Vegetables, Black Beans, Cheese, Lettuce]]': 1,\n",
       " '[[Roasted Chili Corn Salsa (Medium), Tomatillo-Red Chili Salsa (Hot)], [Black Beans, Rice, Cheese, Guacamole, Lettuce]]': 1,\n",
       " '[Tomatillo Red Chili Salsa, [Cheese, Guacamole]]': 1,\n",
       " '[Roasted Chili Corn Salsa, [Rice, Fajita Vegetables, Lettuce, Guacamole]]': 1,\n",
       " '[[Roasted Chili Corn Salsa (Medium), Fresh Tomato Salsa (Mild)], [Fajita Veggies, Lettuce, Rice, Black Beans]]': 1,\n",
       " '[Fresh Tomato Salsa, [Sour Cream, Lettuce, Rice, Cheese]]': 2,\n",
       " '[Tomatillo Green Chili Salsa, [Guacamole, Sour Cream]]': 1,\n",
       " '[Tomatillo Red Chili Salsa, [Fajita Vegetables, Rice, Cheese]]': 1,\n",
       " '[[Tomatillo-Red Chili Salsa (Hot), Fresh Tomato Salsa (Mild), Tomatillo-Green Chili Salsa (Medium)], [Rice, Pinto Beans, Cheese]]': 1,\n",
       " '[[Fresh Tomato Salsa (Mild), Tomatillo-Red Chili Salsa (Hot)], [Pinto Beans, Fajita Veggies, Cheese, Guacamole]]': 1,\n",
       " '[Fresh Tomato Salsa, [Rice, Fajita Vegetables, Black Beans, Sour Cream]]': 1,\n",
       " '[Roasted Chili Corn Salsa, [Rice, Black Beans, Sour Cream, Cheese, Guacamole]]': 7,\n",
       " '[Tomatillo Red Chili Salsa, [Black Beans, Pinto Beans, Cheese, Sour Cream, Guacamole, Lettuce]]': 1,\n",
       " '[Fresh Tomato (Mild), [Lettuce, Rice, Fajita Veggies, Sour Cream, Cheese]]': 1,\n",
       " '[Fresh Tomato Salsa, [Cheese, Guacamole, Lettuce]]': 3,\n",
       " '[[Roasted Chili Corn Salsa (Medium), Tomatillo-Red Chili Salsa (Hot)], [Rice, Cheese, Lettuce]]': 1,\n",
       " '[Fresh Tomato Salsa, [Fajita Vegetables, Rice, Pinto Beans, Cheese]]': 1,\n",
       " '[Roasted Chili Corn Salsa, [Fajita Vegetables, Rice, Pinto Beans, Cheese, Sour Cream]]': 1,\n",
       " '[Fresh Tomato Salsa, [Rice, Fajita Vegetables, Pinto Beans, Black Beans, Lettuce, Guacamole]]': 3,\n",
       " '[[Tomatillo-Green Chili Salsa (Medium), Tomatillo-Red Chili Salsa (Hot)], [Rice, Cheese, Sour Cream, Lettuce]]': 1,\n",
       " '[[Roasted Chili Corn Salsa (Medium), Tomatillo-Red Chili Salsa (Hot), Fresh Tomato Salsa (Mild)], [Rice, Pinto Beans, Fajita Veggies, Cheese, Sour Cream, Lettuce]]': 5,\n",
       " '[[Fresh Tomato Salsa (Mild), Tomatillo-Green Chili Salsa (Medium), Roasted Chili Corn Salsa (Medium)], [Black Beans, Rice, Fajita Veggies, Sour Cream, Lettuce]]': 1,\n",
       " '[Fresh Tomato (Mild), [Guacamole, Lettuce, Pinto Beans, Rice, Sour Cream, Cheese]]': 2,\n",
       " '[Fresh Tomato (Mild), [Guacamole, Rice, Fajita Veggies, Sour Cream, Cheese]]': 1,\n",
       " '[Fresh Tomato Salsa, [Cheese, Black Beans, Pinto Beans, Guacamole, Sour Cream]]': 1,\n",
       " '[Roasted Chili Corn Salsa, [Fajita Vegetables, Rice, Sour Cream, Lettuce]]': 1,\n",
       " '[Tomatillo Red Chili Salsa, [Cheese, Black Beans, Rice]]': 1,\n",
       " '[Tomatillo-Red Chili Salsa (Hot), [Pinto Beans, Rice, Cheese, Sour Cream]]': 1,\n",
       " '[Fresh Tomato Salsa, [Fajita Vegetables, Rice, Black Beans, Lettuce]]': 4,\n",
       " '[Fresh Tomato Salsa (Mild), [Black Beans, Rice, Sour Cream, Guacamole]]': 5,\n",
       " '[[Roasted Chili Corn Salsa (Medium), Fresh Tomato Salsa (Mild)], [Rice, Black Beans, Pinto Beans, Fajita Veggies, Guacamole, Lettuce]]': 1,\n",
       " '[Fresh Tomato Salsa, [Pinto Beans, Lettuce, Cheese, Rice]]': 1,\n",
       " '[Tomatillo-Red Chili Salsa (Hot), [Rice, Guacamole]]': 1,\n",
       " '[Fresh Tomato Salsa (Mild), [Pinto Beans, Fajita Veggies, Cheese, Sour Cream, Lettuce]]': 1,\n",
       " '[[Fresh Tomato Salsa (Mild), Tomatillo-Red Chili Salsa (Hot)], [Rice, Cheese, Sour Cream]]': 2,\n",
       " '[Tomatillo-Red Chili Salsa (Hot), [Black Beans, Fajita Veggies, Cheese, Sour Cream, Lettuce]]': 1,\n",
       " '[Roasted Chili Corn Salsa, [Fajita Vegetables, Rice, Black Beans, Pinto Beans, Guacamole, Lettuce]]': 2,\n",
       " ...}"
      ]
     },
     "execution_count": 15,
     "metadata": {},
     "output_type": "execute_result"
    }
   ],
   "source": [
    "x=list(set(df['choice_description']))\n",
    "di={}\n",
    "for i in x:\n",
    "    di[i]=0\n",
    "for i in df['choice_description']:\n",
    "    di[i]+=1\n",
    "max1=max(di.values())\n",
    "for i in di:\n",
    "    if di[i]==max1:\n",
    "        \n",
    "        print(i)\n",
    "di"
   ]
  },
  {
   "cell_type": "markdown",
   "metadata": {},
   "source": [
    "### Step 12. How many items were orderd in total?"
   ]
  },
  {
   "cell_type": "code",
   "execution_count": 16,
   "metadata": {
    "ExecuteTime": {
     "end_time": "2021-08-29T16:45:52.631893Z",
     "start_time": "2021-08-29T16:45:52.616933Z"
    }
   },
   "outputs": [
    {
     "name": "stdout",
     "output_type": "stream",
     "text": [
      "50\n"
     ]
    }
   ],
   "source": [
    "print(len(d))"
   ]
  },
  {
   "cell_type": "markdown",
   "metadata": {},
   "source": [
    "### Step 13. Turn the item price into a float"
   ]
  },
  {
   "cell_type": "markdown",
   "metadata": {},
   "source": [
    "#### Step 13.a. Check the item price type"
   ]
  },
  {
   "cell_type": "code",
   "execution_count": 17,
   "metadata": {
    "ExecuteTime": {
     "end_time": "2021-08-29T16:45:52.646852Z",
     "start_time": "2021-08-29T16:45:52.632889Z"
    }
   },
   "outputs": [
    {
     "data": {
      "text/plain": [
       "'$2.39 '"
      ]
     },
     "execution_count": 17,
     "metadata": {},
     "output_type": "execute_result"
    }
   ],
   "source": [
    "df['item_price'][0]"
   ]
  },
  {
   "cell_type": "markdown",
   "metadata": {},
   "source": [
    "#### Step 13 change the type of item price"
   ]
  },
  {
   "cell_type": "code",
   "execution_count": 18,
   "metadata": {
    "ExecuteTime": {
     "end_time": "2021-08-29T16:45:52.925271Z",
     "start_time": "2021-08-29T16:45:52.647850Z"
    }
   },
   "outputs": [
    {
     "name": "stderr",
     "output_type": "stream",
     "text": [
      "<ipython-input-18-e9a504085947>:3: SettingWithCopyWarning: \n",
      "A value is trying to be set on a copy of a slice from a DataFrame\n",
      "\n",
      "See the caveats in the documentation: https://pandas.pydata.org/pandas-docs/stable/user_guide/indexing.html#returning-a-view-versus-a-copy\n",
      "  df['item_price'][i]=float(df['item_price'][i][1:-1])\n"
     ]
    }
   ],
   "source": [
    "for i in range(len(df)):\n",
    "    \n",
    "    df['item_price'][i]=float(df['item_price'][i][1:-1])"
   ]
  },
  {
   "cell_type": "markdown",
   "metadata": {},
   "source": [
    "### Step 14. How much was the revenue for the period in the dataset?"
   ]
  },
  {
   "cell_type": "code",
   "execution_count": 19,
   "metadata": {
    "ExecuteTime": {
     "end_time": "2021-08-29T16:45:52.940160Z",
     "start_time": "2021-08-29T16:45:52.926194Z"
    }
   },
   "outputs": [
    {
     "name": "stdout",
     "output_type": "stream",
     "text": [
      "Revenue was: $39237.02\n"
     ]
    }
   ],
   "source": [
    "revenue = (df['quantity']* df['item_price']).sum()\n",
    "\n",
    "print('Revenue was: $' + str(np.round(revenue,2)))"
   ]
  },
  {
   "cell_type": "markdown",
   "metadata": {},
   "source": [
    "### Step 15. How many orders were made in the period?"
   ]
  },
  {
   "cell_type": "code",
   "execution_count": 20,
   "metadata": {
    "ExecuteTime": {
     "end_time": "2021-08-29T16:45:52.956113Z",
     "start_time": "2021-08-29T16:45:52.941154Z"
    }
   },
   "outputs": [
    {
     "data": {
      "text/plain": [
       "1834"
      ]
     },
     "execution_count": 20,
     "metadata": {},
     "output_type": "execute_result"
    }
   ],
   "source": [
    "number_orders=list(set(df['order_id']))\n",
    "len(number_orders)"
   ]
  },
  {
   "cell_type": "markdown",
   "metadata": {},
   "source": [
    "### Step 16. What is the average revenue amount per order?"
   ]
  },
  {
   "cell_type": "code",
   "execution_count": 21,
   "metadata": {
    "ExecuteTime": {
     "end_time": "2021-08-29T16:45:52.971073Z",
     "start_time": "2021-08-29T16:45:52.958108Z"
    }
   },
   "outputs": [
    {
     "data": {
      "text/plain": [
       "quantity    2.711014\n",
       "dtype: float64"
      ]
     },
     "execution_count": 21,
     "metadata": {},
     "output_type": "execute_result"
    }
   ],
   "source": [
    "df['revenue'] = df['quantity'] * df['item_price']\n",
    "order_grouped = df.groupby(by=['order_id']).sum()\n",
    "order_grouped.mean()"
   ]
  },
  {
   "cell_type": "markdown",
   "metadata": {},
   "source": [
    "### Step 17. How many different items are sold?"
   ]
  },
  {
   "cell_type": "code",
   "execution_count": 22,
   "metadata": {
    "ExecuteTime": {
     "end_time": "2021-08-29T16:45:52.986033Z",
     "start_time": "2021-08-29T16:45:52.972072Z"
    }
   },
   "outputs": [],
   "source": [
    "items_sold=list(set(df['item_name']))"
   ]
  },
  {
   "cell_type": "code",
   "execution_count": 23,
   "metadata": {
    "ExecuteTime": {
     "end_time": "2021-08-29T16:45:53.001991Z",
     "start_time": "2021-08-29T16:45:52.987030Z"
    }
   },
   "outputs": [
    {
     "data": {
      "text/plain": [
       "50"
      ]
     },
     "execution_count": 23,
     "metadata": {},
     "output_type": "execute_result"
    }
   ],
   "source": [
    "len(items_sold)"
   ]
  }
 ],
 "metadata": {
  "anaconda-cloud": {},
  "kernelspec": {
   "display_name": "Python 3",
   "language": "python",
   "name": "python3"
  },
  "language_info": {
   "codemirror_mode": {
    "name": "ipython",
    "version": 3
   },
   "file_extension": ".py",
   "mimetype": "text/x-python",
   "name": "python",
   "nbconvert_exporter": "python",
   "pygments_lexer": "ipython3",
   "version": "3.8.5"
  }
 },
 "nbformat": 4,
 "nbformat_minor": 1
}
